{
 "cells": [
  {
   "cell_type": "code",
   "execution_count": 47,
   "metadata": {},
   "outputs": [],
   "source": [
    "import numpy as np\n",
    "import seaborn as sns\n",
    "import pandas as pd\n",
    "\n",
    "from sklearn.model_selection import GridSearchCV\n",
    "from sklearn.model_selection import train_test_split\n",
    "from sklearn.metrics import classification_report\n",
    "from sklearn.metrics import r2_score\n",
    "\n",
    "from sklearn.neighbors import KNeighborsRegressor\n",
    "\n",
    "from sklearn.neighbors import KNeighborsClassifier\n",
    "\n",
    "from sklearn.svm import LinearSVC\n",
    "from sklearn.svm import SVC\n",
    "\n",
    "from sklearn.tree import DecisionTreeClassifier\n",
    "\n",
    "from sklearn.ensemble import RandomForestClassifier \n",
    "\n",
    "from sklearn.svm import LinearSVC\n",
    "\n",
    "from sklearn.svm import SVC\n",
    "\n",
    "from sklearn.gaussian_process import GaussianProcessClassifier\n",
    "from sklearn.gaussian_process.kernels import RBF\n",
    "from sklearn.gaussian_process.kernels import Matern\n",
    "\n"
   ]
  },
  {
   "cell_type": "code",
   "execution_count": 3,
   "metadata": {},
   "outputs": [],
   "source": [
    "df = pd.read_csv('../Data/all_merged.csv')"
   ]
  },
  {
   "cell_type": "code",
   "execution_count": 4,
   "metadata": {},
   "outputs": [],
   "source": [
    "df.drop(df.columns[0], axis=1, inplace=True)"
   ]
  },
  {
   "cell_type": "code",
   "execution_count": 5,
   "metadata": {},
   "outputs": [],
   "source": [
    "df = df[['cluster_nb', 'year', 'Longitude', 'Latitude', 'wealth_index']]"
   ]
  },
  {
   "cell_type": "code",
   "execution_count": 6,
   "metadata": {},
   "outputs": [
    {
     "data": {
      "text/html": [
       "<div>\n",
       "<style scoped>\n",
       "    .dataframe tbody tr th:only-of-type {\n",
       "        vertical-align: middle;\n",
       "    }\n",
       "\n",
       "    .dataframe tbody tr th {\n",
       "        vertical-align: top;\n",
       "    }\n",
       "\n",
       "    .dataframe thead th {\n",
       "        text-align: right;\n",
       "    }\n",
       "</style>\n",
       "<table border=\"1\" class=\"dataframe\">\n",
       "  <thead>\n",
       "    <tr style=\"text-align: right;\">\n",
       "      <th></th>\n",
       "      <th>cluster_nb</th>\n",
       "      <th>year</th>\n",
       "      <th>Longitude</th>\n",
       "      <th>Latitude</th>\n",
       "      <th>wealth_index</th>\n",
       "    </tr>\n",
       "  </thead>\n",
       "  <tbody>\n",
       "    <tr>\n",
       "      <th>0</th>\n",
       "      <td>1997_1</td>\n",
       "      <td>1997.0</td>\n",
       "      <td>47.513320</td>\n",
       "      <td>-18.920098</td>\n",
       "      <td>0.495433</td>\n",
       "    </tr>\n",
       "    <tr>\n",
       "      <th>1</th>\n",
       "      <td>1997_10</td>\n",
       "      <td>1997.0</td>\n",
       "      <td>47.518390</td>\n",
       "      <td>-18.936363</td>\n",
       "      <td>0.401636</td>\n",
       "    </tr>\n",
       "    <tr>\n",
       "      <th>2</th>\n",
       "      <td>1997_100</td>\n",
       "      <td>1997.0</td>\n",
       "      <td>46.969551</td>\n",
       "      <td>-21.997548</td>\n",
       "      <td>-0.761039</td>\n",
       "    </tr>\n",
       "    <tr>\n",
       "      <th>3</th>\n",
       "      <td>1997_101</td>\n",
       "      <td>1997.0</td>\n",
       "      <td>47.118821</td>\n",
       "      <td>-21.984145</td>\n",
       "      <td>-0.658682</td>\n",
       "    </tr>\n",
       "    <tr>\n",
       "      <th>4</th>\n",
       "      <td>1997_102</td>\n",
       "      <td>1997.0</td>\n",
       "      <td>47.728067</td>\n",
       "      <td>-20.660401</td>\n",
       "      <td>-1.082977</td>\n",
       "    </tr>\n",
       "    <tr>\n",
       "      <th>...</th>\n",
       "      <td>...</td>\n",
       "      <td>...</td>\n",
       "      <td>...</td>\n",
       "      <td>...</td>\n",
       "      <td>...</td>\n",
       "    </tr>\n",
       "    <tr>\n",
       "      <th>2526</th>\n",
       "      <td>2018_95</td>\n",
       "      <td>2018.0</td>\n",
       "      <td>47.372711</td>\n",
       "      <td>-19.959590</td>\n",
       "      <td>-0.825694</td>\n",
       "    </tr>\n",
       "    <tr>\n",
       "      <th>2527</th>\n",
       "      <td>2018_96</td>\n",
       "      <td>2018.0</td>\n",
       "      <td>47.105045</td>\n",
       "      <td>-20.098791</td>\n",
       "      <td>-0.645758</td>\n",
       "    </tr>\n",
       "    <tr>\n",
       "      <th>2528</th>\n",
       "      <td>2018_97</td>\n",
       "      <td>2018.0</td>\n",
       "      <td>46.915565</td>\n",
       "      <td>-18.950466</td>\n",
       "      <td>2.924860</td>\n",
       "    </tr>\n",
       "    <tr>\n",
       "      <th>2529</th>\n",
       "      <td>2018_98</td>\n",
       "      <td>2018.0</td>\n",
       "      <td>47.181650</td>\n",
       "      <td>-19.002999</td>\n",
       "      <td>1.850475</td>\n",
       "    </tr>\n",
       "    <tr>\n",
       "      <th>2530</th>\n",
       "      <td>2018_99</td>\n",
       "      <td>2018.0</td>\n",
       "      <td>47.207334</td>\n",
       "      <td>-19.028177</td>\n",
       "      <td>1.852230</td>\n",
       "    </tr>\n",
       "  </tbody>\n",
       "</table>\n",
       "<p>2531 rows × 5 columns</p>\n",
       "</div>"
      ],
      "text/plain": [
       "     cluster_nb    year  Longitude   Latitude  wealth_index\n",
       "0        1997_1  1997.0  47.513320 -18.920098      0.495433\n",
       "1       1997_10  1997.0  47.518390 -18.936363      0.401636\n",
       "2      1997_100  1997.0  46.969551 -21.997548     -0.761039\n",
       "3      1997_101  1997.0  47.118821 -21.984145     -0.658682\n",
       "4      1997_102  1997.0  47.728067 -20.660401     -1.082977\n",
       "...         ...     ...        ...        ...           ...\n",
       "2526    2018_95  2018.0  47.372711 -19.959590     -0.825694\n",
       "2527    2018_96  2018.0  47.105045 -20.098791     -0.645758\n",
       "2528    2018_97  2018.0  46.915565 -18.950466      2.924860\n",
       "2529    2018_98  2018.0  47.181650 -19.002999      1.850475\n",
       "2530    2018_99  2018.0  47.207334 -19.028177      1.852230\n",
       "\n",
       "[2531 rows x 5 columns]"
      ]
     },
     "execution_count": 6,
     "metadata": {},
     "output_type": "execute_result"
    }
   ],
   "source": [
    "df"
   ]
  },
  {
   "cell_type": "code",
   "execution_count": 7,
   "metadata": {},
   "outputs": [],
   "source": [
    "wealth = df['wealth_index']"
   ]
  },
  {
   "cell_type": "code",
   "execution_count": 8,
   "metadata": {},
   "outputs": [
    {
     "name": "stdout",
     "output_type": "stream",
     "text": [
      "mean =  0.021197, sd = 1.429725, q25 =  -1.032366, q75 =  0.778760\n"
     ]
    }
   ],
   "source": [
    "mean = wealth.mean()\n",
    "sd = wealth.std()\n",
    "q25 = wealth.quantile(q=0.25)\n",
    "q75 = wealth.quantile(q=0.75)\n",
    "print(\"mean =  %f, sd = %f, q25 =  %f, q75 =  %f\" % (mean,sd,q25,q75))"
   ]
  },
  {
   "cell_type": "code",
   "execution_count": 9,
   "metadata": {},
   "outputs": [
    {
     "data": {
      "text/plain": [
       "<AxesSubplot:xlabel='wealth_index', ylabel='Density'>"
      ]
     },
     "execution_count": 9,
     "metadata": {},
     "output_type": "execute_result"
    },
    {
     "data": {
      "image/png": "[encoded data removed]",
      "text/plain": [
       "<Figure size 432x288 with 1 Axes>"
      ]
     },
     "metadata": {
      "needs_background": "light"
     },
     "output_type": "display_data"
    }
   ],
   "source": [
    "sns.histplot(data=wealth, stat='density', kde=True, color=\"skyblue\")\n",
    "sns.kdeplot(wealth, color='red')"
   ]
  },
  {
   "cell_type": "markdown",
   "metadata": {},
   "source": [
    "Creating poverty tresholds using quantiles"
   ]
  },
  {
   "cell_type": "code",
   "execution_count": 10,
   "metadata": {},
   "outputs": [],
   "source": [
    "level = []\n",
    "n=df.shape[0]\n",
    "\n",
    "for i in range(n):\n",
    "    if wealth[i]<wealth.quantile(q=0.25):\n",
    "        level.append(str(0))\n",
    "    elif wealth.quantile(q=0.25) <= wealth[i] < wealth.mean():\n",
    "        level.append(str(1))\n",
    "    elif wealth.mean() <= wealth[i] < wealth.quantile(q=0.75):\n",
    "        level.append(str(2))\n",
    "    else:\n",
    "        level.append(str(3))\n"
   ]
  },
  {
   "cell_type": "code",
   "execution_count": 11,
   "metadata": {},
   "outputs": [],
   "source": [
    "df['level'] = level"
   ]
  },
  {
   "cell_type": "code",
   "execution_count": 12,
   "metadata": {},
   "outputs": [
    {
     "data": {
      "text/html": [
       "<div>\n",
       "<style scoped>\n",
       "    .dataframe tbody tr th:only-of-type {\n",
       "        vertical-align: middle;\n",
       "    }\n",
       "\n",
       "    .dataframe tbody tr th {\n",
       "        vertical-align: top;\n",
       "    }\n",
       "\n",
       "    .dataframe thead th {\n",
       "        text-align: right;\n",
       "    }\n",
       "</style>\n",
       "<table border=\"1\" class=\"dataframe\">\n",
       "  <thead>\n",
       "    <tr style=\"text-align: right;\">\n",
       "      <th></th>\n",
       "      <th>cluster_nb</th>\n",
       "      <th>year</th>\n",
       "      <th>Longitude</th>\n",
       "      <th>Latitude</th>\n",
       "      <th>wealth_index</th>\n",
       "      <th>level</th>\n",
       "    </tr>\n",
       "  </thead>\n",
       "  <tbody>\n",
       "    <tr>\n",
       "      <th>0</th>\n",
       "      <td>1997_1</td>\n",
       "      <td>1997.0</td>\n",
       "      <td>47.513320</td>\n",
       "      <td>-18.920098</td>\n",
       "      <td>0.495433</td>\n",
       "      <td>2</td>\n",
       "    </tr>\n",
       "    <tr>\n",
       "      <th>1</th>\n",
       "      <td>1997_10</td>\n",
       "      <td>1997.0</td>\n",
       "      <td>47.518390</td>\n",
       "      <td>-18.936363</td>\n",
       "      <td>0.401636</td>\n",
       "      <td>2</td>\n",
       "    </tr>\n",
       "    <tr>\n",
       "      <th>2</th>\n",
       "      <td>1997_100</td>\n",
       "      <td>1997.0</td>\n",
       "      <td>46.969551</td>\n",
       "      <td>-21.997548</td>\n",
       "      <td>-0.761039</td>\n",
       "      <td>1</td>\n",
       "    </tr>\n",
       "    <tr>\n",
       "      <th>3</th>\n",
       "      <td>1997_101</td>\n",
       "      <td>1997.0</td>\n",
       "      <td>47.118821</td>\n",
       "      <td>-21.984145</td>\n",
       "      <td>-0.658682</td>\n",
       "      <td>1</td>\n",
       "    </tr>\n",
       "    <tr>\n",
       "      <th>4</th>\n",
       "      <td>1997_102</td>\n",
       "      <td>1997.0</td>\n",
       "      <td>47.728067</td>\n",
       "      <td>-20.660401</td>\n",
       "      <td>-1.082977</td>\n",
       "      <td>0</td>\n",
       "    </tr>\n",
       "    <tr>\n",
       "      <th>...</th>\n",
       "      <td>...</td>\n",
       "      <td>...</td>\n",
       "      <td>...</td>\n",
       "      <td>...</td>\n",
       "      <td>...</td>\n",
       "      <td>...</td>\n",
       "    </tr>\n",
       "    <tr>\n",
       "      <th>2526</th>\n",
       "      <td>2018_95</td>\n",
       "      <td>2018.0</td>\n",
       "      <td>47.372711</td>\n",
       "      <td>-19.959590</td>\n",
       "      <td>-0.825694</td>\n",
       "      <td>1</td>\n",
       "    </tr>\n",
       "    <tr>\n",
       "      <th>2527</th>\n",
       "      <td>2018_96</td>\n",
       "      <td>2018.0</td>\n",
       "      <td>47.105045</td>\n",
       "      <td>-20.098791</td>\n",
       "      <td>-0.645758</td>\n",
       "      <td>1</td>\n",
       "    </tr>\n",
       "    <tr>\n",
       "      <th>2528</th>\n",
       "      <td>2018_97</td>\n",
       "      <td>2018.0</td>\n",
       "      <td>46.915565</td>\n",
       "      <td>-18.950466</td>\n",
       "      <td>2.924860</td>\n",
       "      <td>3</td>\n",
       "    </tr>\n",
       "    <tr>\n",
       "      <th>2529</th>\n",
       "      <td>2018_98</td>\n",
       "      <td>2018.0</td>\n",
       "      <td>47.181650</td>\n",
       "      <td>-19.002999</td>\n",
       "      <td>1.850475</td>\n",
       "      <td>3</td>\n",
       "    </tr>\n",
       "    <tr>\n",
       "      <th>2530</th>\n",
       "      <td>2018_99</td>\n",
       "      <td>2018.0</td>\n",
       "      <td>47.207334</td>\n",
       "      <td>-19.028177</td>\n",
       "      <td>1.852230</td>\n",
       "      <td>3</td>\n",
       "    </tr>\n",
       "  </tbody>\n",
       "</table>\n",
       "<p>2531 rows × 6 columns</p>\n",
       "</div>"
      ],
      "text/plain": [
       "     cluster_nb    year  Longitude   Latitude  wealth_index level\n",
       "0        1997_1  1997.0  47.513320 -18.920098      0.495433     2\n",
       "1       1997_10  1997.0  47.518390 -18.936363      0.401636     2\n",
       "2      1997_100  1997.0  46.969551 -21.997548     -0.761039     1\n",
       "3      1997_101  1997.0  47.118821 -21.984145     -0.658682     1\n",
       "4      1997_102  1997.0  47.728067 -20.660401     -1.082977     0\n",
       "...         ...     ...        ...        ...           ...   ...\n",
       "2526    2018_95  2018.0  47.372711 -19.959590     -0.825694     1\n",
       "2527    2018_96  2018.0  47.105045 -20.098791     -0.645758     1\n",
       "2528    2018_97  2018.0  46.915565 -18.950466      2.924860     3\n",
       "2529    2018_98  2018.0  47.181650 -19.002999      1.850475     3\n",
       "2530    2018_99  2018.0  47.207334 -19.028177      1.852230     3\n",
       "\n",
       "[2531 rows x 6 columns]"
      ]
     },
     "execution_count": 12,
     "metadata": {},
     "output_type": "execute_result"
    }
   ],
   "source": [
    "df"
   ]
  },
  {
   "cell_type": "code",
   "execution_count": 13,
   "metadata": {},
   "outputs": [],
   "source": [
    "df_classification = df.drop(columns= ['cluster_nb', 'year', 'wealth_index'])"
   ]
  },
  {
   "cell_type": "code",
   "execution_count": 42,
   "metadata": {},
   "outputs": [],
   "source": [
    "X = df_classification[['Longitude', 'Latitude']]\n",
    "Y = df_classification['level']\n",
    "Y_regression = df['wealth_index']"
   ]
  },
  {
   "cell_type": "code",
   "execution_count": 43,
   "metadata": {},
   "outputs": [
    {
     "data": {
      "text/plain": [
       "0       0.495433\n",
       "1       0.401636\n",
       "2      -0.761039\n",
       "3      -0.658682\n",
       "4      -1.082977\n",
       "          ...   \n",
       "2526   -0.825694\n",
       "2527   -0.645758\n",
       "2528    2.924860\n",
       "2529    1.850475\n",
       "2530    1.852230\n",
       "Name: wealth_index, Length: 2531, dtype: float64"
      ]
     },
     "execution_count": 43,
     "metadata": {},
     "output_type": "execute_result"
    }
   ],
   "source": [
    "Y_regression"
   ]
  },
  {
   "cell_type": "code",
   "execution_count": 16,
   "metadata": {},
   "outputs": [
    {
     "name": "stdout",
     "output_type": "stream",
     "text": [
      "Training Set Length:  2025\n",
      "Testing Set Length:  506\n"
     ]
    }
   ],
   "source": [
    "X_train, X_test, Y_train, Y_test = train_test_split(X,Y,test_size=int(0.2*df.shape[0]),random_state=11)\n",
    "print(\"Training Set Length: \", X_train.shape[0])\n",
    "print(\"Testing Set Length: \", X_test.shape[0])"
   ]
  },
  {
   "cell_type": "code",
   "execution_count": 44,
   "metadata": {},
   "outputs": [
    {
     "name": "stdout",
     "output_type": "stream",
     "text": [
      "Training Set Length:  2025\n",
      "Testing Set Length:  506\n"
     ]
    }
   ],
   "source": [
    "X_train_reg, X_test_reg, Y_train_reg, Y_test_reg = train_test_split(X,Y_regression,test_size=int(0.2*df.shape[0]),random_state=11)\n",
    "print(\"Training Set Length: \", X_train_reg.shape[0])\n",
    "print(\"Testing Set Length: \", X_test_reg.shape[0])"
   ]
  },
  {
   "cell_type": "code",
   "execution_count": 46,
   "metadata": {},
   "outputs": [
    {
     "name": "stdout",
     "output_type": "stream",
     "text": [
      "Best leaf_size: 4\n",
      "Best p: 1\n",
      "Best n_neighbors: 3\n",
      "r2 : 0.6338580155817726\n"
     ]
    }
   ],
   "source": [
    "# Hyper-parameters Tuning\n",
    "\n",
    "leaf_size = list(range(1,50))\n",
    "n_neighbors = list(range(1,30))\n",
    "p=[1,2]\n",
    "\n",
    "hyperparameters = dict(leaf_size=leaf_size, n_neighbors=n_neighbors, p=p)\n",
    "\n",
    "knn = KNeighborsRegressor()\n",
    "clf = GridSearchCV(knn, hyperparameters, cv=10)\n",
    "\n",
    "best_model = clf.fit(X_train_reg,Y_train_reg)\n",
    "\n",
    "print('Best leaf_size:', best_model.best_estimator_.get_params()['leaf_size'])\n",
    "print('Best p:', best_model.best_estimator_.get_params()['p'])\n",
    "print('Best n_neighbors:', best_model.best_estimator_.get_params()['n_neighbors'])\n",
    "\n",
    "# Testing and evaluating performance\n",
    "\n",
    "predictions_reg = best_model.predict(X_test_reg)\n",
    "r2 = r2_score(Y_test_reg, predictions_reg)\n",
    "print('r2 :', r2)"
   ]
  },
  {
   "cell_type": "markdown",
   "metadata": {},
   "source": [
    "**Classification Methods**"
   ]
  },
  {
   "cell_type": "code",
   "execution_count": 17,
   "metadata": {},
   "outputs": [],
   "source": [
    "def classification_metric(y_true, y_pred):\n",
    "    table = pd.crosstab(y_true, y_pred, dropna = False)\n",
    "    print(table)\n",
    "    print(classification_report(y_true, y_pred))"
   ]
  },
  {
   "cell_type": "markdown",
   "metadata": {},
   "source": [
    "**kNN**"
   ]
  },
  {
   "cell_type": "code",
   "execution_count": 50,
   "metadata": {},
   "outputs": [
    {
     "name": "stdout",
     "output_type": "stream",
     "text": [
      "col_0   0    1  2    3\n",
      "level                 \n",
      "0      55   54  0    2\n",
      "1      49  146  8   14\n",
      "2       6   24  5   15\n",
      "3       2   19  3  104\n",
      "              precision    recall  f1-score   support\n",
      "\n",
      "           0       0.49      0.50      0.49       111\n",
      "           1       0.60      0.67      0.63       217\n",
      "           2       0.31      0.10      0.15        50\n",
      "           3       0.77      0.81      0.79       128\n",
      "\n",
      "    accuracy                           0.61       506\n",
      "   macro avg       0.54      0.52      0.52       506\n",
      "weighted avg       0.59      0.61      0.60       506\n",
      "\n"
     ]
    }
   ],
   "source": [
    "classifier = KNeighborsClassifier(n_neighbors = 5, metric = 'minkowski', p = 2)\n",
    "classifier.fit(X_train, Y_train)\n",
    "\n",
    "y_pred = classifier.predict(X_test)\n",
    "classification_metric(Y_test, y_pred)\n"
   ]
  },
  {
   "cell_type": "markdown",
   "metadata": {},
   "source": [
    "**Decision Tree**"
   ]
  },
  {
   "cell_type": "code",
   "execution_count": 18,
   "metadata": {},
   "outputs": [
    {
     "name": "stdout",
     "output_type": "stream",
     "text": [
      "Best Mean cross-validated accuracy = 0.593101, Best parameter = {'max_depth': 9, 'min_samples_leaf': 1, 'min_samples_split': 7}\n"
     ]
    }
   ],
   "source": [
    "# Optimisation of shaft depth\n",
    "param_grid = [{\"max_depth\": range(2,10), \"min_samples_split\" : range(2,10), \"min_samples_leaf\": range(1,5) }]\n",
    "tree = GridSearchCV(DecisionTreeClassifier(max_features = None , min_impurity_decrease = 1e-3, random_state = 42), scoring = \"accuracy\", param_grid = param_grid, cv=10, n_jobs=-1, refit = True)\n",
    "treeOpt = tree.fit(X_train, Y_train)\n",
    "\n",
    "# Optimal parameter\n",
    "print(\"Best Mean cross-validated accuracy = %f, Best parameter = %s\" % (treeOpt.best_score_, treeOpt.best_params_))"
   ]
  },
  {
   "cell_type": "code",
   "execution_count": 19,
   "metadata": {},
   "outputs": [
    {
     "name": "stdout",
     "output_type": "stream",
     "text": [
      "col_0   0    1  2   3\n",
      "level                \n",
      "0      63   45  0   3\n",
      "1      45  164  0   8\n",
      "2       7   34  1   8\n",
      "3       5   33  1  89\n",
      "              precision    recall  f1-score   support\n",
      "\n",
      "           0       0.53      0.57      0.55       111\n",
      "           1       0.59      0.76      0.67       217\n",
      "           2       0.50      0.02      0.04        50\n",
      "           3       0.82      0.70      0.75       128\n",
      "\n",
      "    accuracy                           0.63       506\n",
      "   macro avg       0.61      0.51      0.50       506\n",
      "weighted avg       0.63      0.63      0.60       506\n",
      "\n"
     ]
    }
   ],
   "source": [
    "#Prediction on the test sample\n",
    "\n",
    "y_hat = treeOpt.predict(X_test)\n",
    "classification_metric(Y_test, y_hat)\n"
   ]
  },
  {
   "cell_type": "code",
   "execution_count": 20,
   "metadata": {},
   "outputs": [
    {
     "data": {
      "text/plain": [
       "sklearn.tree._classes.DecisionTreeClassifier"
      ]
     },
     "execution_count": 20,
     "metadata": {},
     "output_type": "execute_result"
    }
   ],
   "source": [
    "DecisionTreeClassifier"
   ]
  },
  {
   "cell_type": "markdown",
   "metadata": {},
   "source": [
    "La table de contigence montre que les classes aux extrémités(0 et 3) sont généralement bien prédit 50% du temps, mais les classes 1 et 2 sont plus ambigües"
   ]
  },
  {
   "cell_type": "markdown",
   "metadata": {},
   "source": [
    "**Random Forest**"
   ]
  },
  {
   "cell_type": "code",
   "execution_count": 21,
   "metadata": {},
   "outputs": [
    {
     "name": "stdout",
     "output_type": "stream",
     "text": [
      "0.3782716049382716\n",
      "0.3754940711462451\n"
     ]
    }
   ],
   "source": [
    "# Parameters definition\n",
    "forest = RandomForestClassifier(n_estimators = 500, criterion='gini', max_depth=None, min_samples_split=2, min_samples_leaf=1, max_features=None, max_leaf_nodes=None, \n",
    "                                 bootstrap=True, oob_score=True)\n",
    "\n",
    "# Training\n",
    "rfFit = forest.fit(X_train,Y_train)\n",
    "\n",
    "# Out-of-bag error on the train sample\n",
    "print(1 - rfFit.oob_score_)\n",
    "# Out-of-bag error on the test sample\n",
    "print(1 - rfFit.score(X_test,Y_test))"
   ]
  },
  {
   "cell_type": "code",
   "execution_count": 22,
   "metadata": {},
   "outputs": [
    {
     "ename": "KeyboardInterrupt",
     "evalue": "",
     "output_type": "error",
     "traceback": [
      "\u001b[1;31m---------------------------------------------------------------------------\u001b[0m",
      "\u001b[1;31mKeyboardInterrupt\u001b[0m                         Traceback (most recent call last)",
      "\u001b[1;32m~\\AppData\\Local\\Temp\\ipykernel_3592\\2057978601.py\u001b[0m in \u001b[0;36m<module>\u001b[1;34m\u001b[0m\n\u001b[0;32m      3\u001b[0m \u001b[0mrf\u001b[0m \u001b[1;33m=\u001b[0m \u001b[0mGridSearchCV\u001b[0m\u001b[1;33m(\u001b[0m\u001b[0mRandomForestClassifier\u001b[0m\u001b[1;33m(\u001b[0m\u001b[0mrandom_state\u001b[0m\u001b[1;33m=\u001b[0m\u001b[1;36m42\u001b[0m\u001b[1;33m,\u001b[0m \u001b[0mcriterion\u001b[0m\u001b[1;33m=\u001b[0m\u001b[1;34m\"entropy\"\u001b[0m\u001b[1;33m)\u001b[0m\u001b[1;33m,\u001b[0m \u001b[0mparam\u001b[0m\u001b[1;33m,\u001b[0m \u001b[0mcv\u001b[0m \u001b[1;33m=\u001b[0m \u001b[1;36m5\u001b[0m\u001b[1;33m,\u001b[0m \u001b[0mn_jobs\u001b[0m\u001b[1;33m=\u001b[0m\u001b[1;33m-\u001b[0m\u001b[1;36m1\u001b[0m\u001b[1;33m)\u001b[0m\u001b[1;33m\u001b[0m\u001b[1;33m\u001b[0m\u001b[0m\n\u001b[0;32m      4\u001b[0m \u001b[1;33m\u001b[0m\u001b[0m\n\u001b[1;32m----> 5\u001b[1;33m \u001b[0mrfOpt\u001b[0m \u001b[1;33m=\u001b[0m \u001b[0mrf\u001b[0m\u001b[1;33m.\u001b[0m\u001b[0mfit\u001b[0m\u001b[1;33m(\u001b[0m\u001b[0mX_train\u001b[0m\u001b[1;33m,\u001b[0m \u001b[0mY_train\u001b[0m\u001b[1;33m)\u001b[0m\u001b[1;33m\u001b[0m\u001b[1;33m\u001b[0m\u001b[0m\n\u001b[0m\u001b[0;32m      6\u001b[0m \u001b[0mprint\u001b[0m\u001b[1;33m(\u001b[0m\u001b[1;34m\"Best Mean cross-validated accuracy = %f, Best parameter = %s\"\u001b[0m \u001b[1;33m%\u001b[0m \u001b[1;33m(\u001b[0m\u001b[0mrfOpt\u001b[0m\u001b[1;33m.\u001b[0m\u001b[0mbest_score_\u001b[0m\u001b[1;33m,\u001b[0m \u001b[0mrfOpt\u001b[0m\u001b[1;33m.\u001b[0m\u001b[0mbest_params_\u001b[0m\u001b[1;33m)\u001b[0m\u001b[1;33m)\u001b[0m\u001b[1;33m\u001b[0m\u001b[1;33m\u001b[0m\u001b[0m\n",
      "\u001b[1;32mc:\\Users\\ikhla\\anaconda3\\lib\\site-packages\\sklearn\\model_selection\\_search.py\u001b[0m in \u001b[0;36mfit\u001b[1;34m(self, X, y, groups, **fit_params)\u001b[0m\n\u001b[0;32m    889\u001b[0m                 \u001b[1;32mreturn\u001b[0m \u001b[0mresults\u001b[0m\u001b[1;33m\u001b[0m\u001b[1;33m\u001b[0m\u001b[0m\n\u001b[0;32m    890\u001b[0m \u001b[1;33m\u001b[0m\u001b[0m\n\u001b[1;32m--> 891\u001b[1;33m             \u001b[0mself\u001b[0m\u001b[1;33m.\u001b[0m\u001b[0m_run_search\u001b[0m\u001b[1;33m(\u001b[0m\u001b[0mevaluate_candidates\u001b[0m\u001b[1;33m)\u001b[0m\u001b[1;33m\u001b[0m\u001b[1;33m\u001b[0m\u001b[0m\n\u001b[0m\u001b[0;32m    892\u001b[0m \u001b[1;33m\u001b[0m\u001b[0m\n\u001b[0;32m    893\u001b[0m             \u001b[1;31m# multimetric is determined here because in the case of a callable\u001b[0m\u001b[1;33m\u001b[0m\u001b[1;33m\u001b[0m\u001b[1;33m\u001b[0m\u001b[0m\n",
      "\u001b[1;32mc:\\Users\\ikhla\\anaconda3\\lib\\site-packages\\sklearn\\model_selection\\_search.py\u001b[0m in \u001b[0;36m_run_search\u001b[1;34m(self, evaluate_candidates)\u001b[0m\n\u001b[0;32m   1390\u001b[0m     \u001b[1;32mdef\u001b[0m \u001b[0m_run_search\u001b[0m\u001b[1;33m(\u001b[0m\u001b[0mself\u001b[0m\u001b[1;33m,\u001b[0m \u001b[0mevaluate_candidates\u001b[0m\u001b[1;33m)\u001b[0m\u001b[1;33m:\u001b[0m\u001b[1;33m\u001b[0m\u001b[1;33m\u001b[0m\u001b[0m\n\u001b[0;32m   1391\u001b[0m         \u001b[1;34m\"\"\"Search all candidates in param_grid\"\"\"\u001b[0m\u001b[1;33m\u001b[0m\u001b[1;33m\u001b[0m\u001b[0m\n\u001b[1;32m-> 1392\u001b[1;33m         \u001b[0mevaluate_candidates\u001b[0m\u001b[1;33m(\u001b[0m\u001b[0mParameterGrid\u001b[0m\u001b[1;33m(\u001b[0m\u001b[0mself\u001b[0m\u001b[1;33m.\u001b[0m\u001b[0mparam_grid\u001b[0m\u001b[1;33m)\u001b[0m\u001b[1;33m)\u001b[0m\u001b[1;33m\u001b[0m\u001b[1;33m\u001b[0m\u001b[0m\n\u001b[0m\u001b[0;32m   1393\u001b[0m \u001b[1;33m\u001b[0m\u001b[0m\n\u001b[0;32m   1394\u001b[0m \u001b[1;33m\u001b[0m\u001b[0m\n",
      "\u001b[1;32mc:\\Users\\ikhla\\anaconda3\\lib\\site-packages\\sklearn\\model_selection\\_search.py\u001b[0m in \u001b[0;36mevaluate_candidates\u001b[1;34m(candidate_params, cv, more_results)\u001b[0m\n\u001b[0;32m    836\u001b[0m                     )\n\u001b[0;32m    837\u001b[0m \u001b[1;33m\u001b[0m\u001b[0m\n\u001b[1;32m--> 838\u001b[1;33m                 out = parallel(\n\u001b[0m\u001b[0;32m    839\u001b[0m                     delayed(_fit_and_score)(\n\u001b[0;32m    840\u001b[0m                         \u001b[0mclone\u001b[0m\u001b[1;33m(\u001b[0m\u001b[0mbase_estimator\u001b[0m\u001b[1;33m)\u001b[0m\u001b[1;33m,\u001b[0m\u001b[1;33m\u001b[0m\u001b[1;33m\u001b[0m\u001b[0m\n",
      "\u001b[1;32mc:\\Users\\ikhla\\anaconda3\\lib\\site-packages\\joblib\\parallel.py\u001b[0m in \u001b[0;36m__call__\u001b[1;34m(self, iterable)\u001b[0m\n\u001b[0;32m   1054\u001b[0m \u001b[1;33m\u001b[0m\u001b[0m\n\u001b[0;32m   1055\u001b[0m             \u001b[1;32mwith\u001b[0m \u001b[0mself\u001b[0m\u001b[1;33m.\u001b[0m\u001b[0m_backend\u001b[0m\u001b[1;33m.\u001b[0m\u001b[0mretrieval_context\u001b[0m\u001b[1;33m(\u001b[0m\u001b[1;33m)\u001b[0m\u001b[1;33m:\u001b[0m\u001b[1;33m\u001b[0m\u001b[1;33m\u001b[0m\u001b[0m\n\u001b[1;32m-> 1056\u001b[1;33m                 \u001b[0mself\u001b[0m\u001b[1;33m.\u001b[0m\u001b[0mretrieve\u001b[0m\u001b[1;33m(\u001b[0m\u001b[1;33m)\u001b[0m\u001b[1;33m\u001b[0m\u001b[1;33m\u001b[0m\u001b[0m\n\u001b[0m\u001b[0;32m   1057\u001b[0m             \u001b[1;31m# Make sure that we get a last message telling us we are done\u001b[0m\u001b[1;33m\u001b[0m\u001b[1;33m\u001b[0m\u001b[1;33m\u001b[0m\u001b[0m\n\u001b[0;32m   1058\u001b[0m             \u001b[0melapsed_time\u001b[0m \u001b[1;33m=\u001b[0m \u001b[0mtime\u001b[0m\u001b[1;33m.\u001b[0m\u001b[0mtime\u001b[0m\u001b[1;33m(\u001b[0m\u001b[1;33m)\u001b[0m \u001b[1;33m-\u001b[0m \u001b[0mself\u001b[0m\u001b[1;33m.\u001b[0m\u001b[0m_start_time\u001b[0m\u001b[1;33m\u001b[0m\u001b[1;33m\u001b[0m\u001b[0m\n",
      "\u001b[1;32mc:\\Users\\ikhla\\anaconda3\\lib\\site-packages\\joblib\\parallel.py\u001b[0m in \u001b[0;36mretrieve\u001b[1;34m(self)\u001b[0m\n\u001b[0;32m    933\u001b[0m             \u001b[1;32mtry\u001b[0m\u001b[1;33m:\u001b[0m\u001b[1;33m\u001b[0m\u001b[1;33m\u001b[0m\u001b[0m\n\u001b[0;32m    934\u001b[0m                 \u001b[1;32mif\u001b[0m \u001b[0mgetattr\u001b[0m\u001b[1;33m(\u001b[0m\u001b[0mself\u001b[0m\u001b[1;33m.\u001b[0m\u001b[0m_backend\u001b[0m\u001b[1;33m,\u001b[0m \u001b[1;34m'supports_timeout'\u001b[0m\u001b[1;33m,\u001b[0m \u001b[1;32mFalse\u001b[0m\u001b[1;33m)\u001b[0m\u001b[1;33m:\u001b[0m\u001b[1;33m\u001b[0m\u001b[1;33m\u001b[0m\u001b[0m\n\u001b[1;32m--> 935\u001b[1;33m                     \u001b[0mself\u001b[0m\u001b[1;33m.\u001b[0m\u001b[0m_output\u001b[0m\u001b[1;33m.\u001b[0m\u001b[0mextend\u001b[0m\u001b[1;33m(\u001b[0m\u001b[0mjob\u001b[0m\u001b[1;33m.\u001b[0m\u001b[0mget\u001b[0m\u001b[1;33m(\u001b[0m\u001b[0mtimeout\u001b[0m\u001b[1;33m=\u001b[0m\u001b[0mself\u001b[0m\u001b[1;33m.\u001b[0m\u001b[0mtimeout\u001b[0m\u001b[1;33m)\u001b[0m\u001b[1;33m)\u001b[0m\u001b[1;33m\u001b[0m\u001b[1;33m\u001b[0m\u001b[0m\n\u001b[0m\u001b[0;32m    936\u001b[0m                 \u001b[1;32melse\u001b[0m\u001b[1;33m:\u001b[0m\u001b[1;33m\u001b[0m\u001b[1;33m\u001b[0m\u001b[0m\n\u001b[0;32m    937\u001b[0m                     \u001b[0mself\u001b[0m\u001b[1;33m.\u001b[0m\u001b[0m_output\u001b[0m\u001b[1;33m.\u001b[0m\u001b[0mextend\u001b[0m\u001b[1;33m(\u001b[0m\u001b[0mjob\u001b[0m\u001b[1;33m.\u001b[0m\u001b[0mget\u001b[0m\u001b[1;33m(\u001b[0m\u001b[1;33m)\u001b[0m\u001b[1;33m)\u001b[0m\u001b[1;33m\u001b[0m\u001b[1;33m\u001b[0m\u001b[0m\n",
      "\u001b[1;32mc:\\Users\\ikhla\\anaconda3\\lib\\site-packages\\joblib\\_parallel_backends.py\u001b[0m in \u001b[0;36mwrap_future_result\u001b[1;34m(future, timeout)\u001b[0m\n\u001b[0;32m    540\u001b[0m         AsyncResults.get from multiprocessing.\"\"\"\n\u001b[0;32m    541\u001b[0m         \u001b[1;32mtry\u001b[0m\u001b[1;33m:\u001b[0m\u001b[1;33m\u001b[0m\u001b[1;33m\u001b[0m\u001b[0m\n\u001b[1;32m--> 542\u001b[1;33m             \u001b[1;32mreturn\u001b[0m \u001b[0mfuture\u001b[0m\u001b[1;33m.\u001b[0m\u001b[0mresult\u001b[0m\u001b[1;33m(\u001b[0m\u001b[0mtimeout\u001b[0m\u001b[1;33m=\u001b[0m\u001b[0mtimeout\u001b[0m\u001b[1;33m)\u001b[0m\u001b[1;33m\u001b[0m\u001b[1;33m\u001b[0m\u001b[0m\n\u001b[0m\u001b[0;32m    543\u001b[0m         \u001b[1;32mexcept\u001b[0m \u001b[0mCfTimeoutError\u001b[0m \u001b[1;32mas\u001b[0m \u001b[0me\u001b[0m\u001b[1;33m:\u001b[0m\u001b[1;33m\u001b[0m\u001b[1;33m\u001b[0m\u001b[0m\n\u001b[0;32m    544\u001b[0m             \u001b[1;32mraise\u001b[0m \u001b[0mTimeoutError\u001b[0m \u001b[1;32mfrom\u001b[0m \u001b[0me\u001b[0m\u001b[1;33m\u001b[0m\u001b[1;33m\u001b[0m\u001b[0m\n",
      "\u001b[1;32mc:\\Users\\ikhla\\anaconda3\\lib\\concurrent\\futures\\_base.py\u001b[0m in \u001b[0;36mresult\u001b[1;34m(self, timeout)\u001b[0m\n\u001b[0;32m    432\u001b[0m                 \u001b[1;32mreturn\u001b[0m \u001b[0mself\u001b[0m\u001b[1;33m.\u001b[0m\u001b[0m__get_result\u001b[0m\u001b[1;33m(\u001b[0m\u001b[1;33m)\u001b[0m\u001b[1;33m\u001b[0m\u001b[1;33m\u001b[0m\u001b[0m\n\u001b[0;32m    433\u001b[0m \u001b[1;33m\u001b[0m\u001b[0m\n\u001b[1;32m--> 434\u001b[1;33m             \u001b[0mself\u001b[0m\u001b[1;33m.\u001b[0m\u001b[0m_condition\u001b[0m\u001b[1;33m.\u001b[0m\u001b[0mwait\u001b[0m\u001b[1;33m(\u001b[0m\u001b[0mtimeout\u001b[0m\u001b[1;33m)\u001b[0m\u001b[1;33m\u001b[0m\u001b[1;33m\u001b[0m\u001b[0m\n\u001b[0m\u001b[0;32m    435\u001b[0m \u001b[1;33m\u001b[0m\u001b[0m\n\u001b[0;32m    436\u001b[0m             \u001b[1;32mif\u001b[0m \u001b[0mself\u001b[0m\u001b[1;33m.\u001b[0m\u001b[0m_state\u001b[0m \u001b[1;32min\u001b[0m \u001b[1;33m[\u001b[0m\u001b[0mCANCELLED\u001b[0m\u001b[1;33m,\u001b[0m \u001b[0mCANCELLED_AND_NOTIFIED\u001b[0m\u001b[1;33m]\u001b[0m\u001b[1;33m:\u001b[0m\u001b[1;33m\u001b[0m\u001b[1;33m\u001b[0m\u001b[0m\n",
      "\u001b[1;32mc:\\Users\\ikhla\\anaconda3\\lib\\threading.py\u001b[0m in \u001b[0;36mwait\u001b[1;34m(self, timeout)\u001b[0m\n\u001b[0;32m    300\u001b[0m         \u001b[1;32mtry\u001b[0m\u001b[1;33m:\u001b[0m    \u001b[1;31m# restore state no matter what (e.g., KeyboardInterrupt)\u001b[0m\u001b[1;33m\u001b[0m\u001b[1;33m\u001b[0m\u001b[0m\n\u001b[0;32m    301\u001b[0m             \u001b[1;32mif\u001b[0m \u001b[0mtimeout\u001b[0m \u001b[1;32mis\u001b[0m \u001b[1;32mNone\u001b[0m\u001b[1;33m:\u001b[0m\u001b[1;33m\u001b[0m\u001b[1;33m\u001b[0m\u001b[0m\n\u001b[1;32m--> 302\u001b[1;33m                 \u001b[0mwaiter\u001b[0m\u001b[1;33m.\u001b[0m\u001b[0macquire\u001b[0m\u001b[1;33m(\u001b[0m\u001b[1;33m)\u001b[0m\u001b[1;33m\u001b[0m\u001b[1;33m\u001b[0m\u001b[0m\n\u001b[0m\u001b[0;32m    303\u001b[0m                 \u001b[0mgotit\u001b[0m \u001b[1;33m=\u001b[0m \u001b[1;32mTrue\u001b[0m\u001b[1;33m\u001b[0m\u001b[1;33m\u001b[0m\u001b[0m\n\u001b[0;32m    304\u001b[0m             \u001b[1;32melse\u001b[0m\u001b[1;33m:\u001b[0m\u001b[1;33m\u001b[0m\u001b[1;33m\u001b[0m\u001b[0m\n",
      "\u001b[1;31mKeyboardInterrupt\u001b[0m: "
     ]
    }
   ],
   "source": [
    "param = [{\"n_estimators\" : range(200, 500, 100) , \"max_depth\" : range(10, 20, 2) }]\n",
    "\n",
    "rf = GridSearchCV(RandomForestClassifier(random_state=42, criterion=\"entropy\"), param, cv = 5, n_jobs=-1)\n",
    "\n",
    "rfOpt = rf.fit(X_train, Y_train)\n",
    "print(\"Best Mean cross-validated accuracy = %f, Best parameter = %s\" % (rfOpt.best_score_, rfOpt.best_params_))"
   ]
  },
  {
   "cell_type": "code",
   "execution_count": null,
   "metadata": {},
   "outputs": [
    {
     "data": {
      "text/plain": [
       "0.6403162055335968"
      ]
     },
     "execution_count": 33,
     "metadata": {},
     "output_type": "execute_result"
    }
   ],
   "source": [
    "# Estimation of the prediction error on the test sample\n",
    "rfOpt.score(X_test, Y_test)"
   ]
  },
  {
   "cell_type": "code",
   "execution_count": null,
   "metadata": {},
   "outputs": [
    {
     "name": "stdout",
     "output_type": "stream",
     "text": [
      "col_0   0    1  2   3\n",
      "level                \n",
      "0      49   60  0   2\n",
      "1      30  176  1  10\n",
      "2       3   33  1  13\n",
      "3       2   27  1  98\n",
      "              precision    recall  f1-score   support\n",
      "\n",
      "           0       0.58      0.44      0.50       111\n",
      "           1       0.59      0.81      0.69       217\n",
      "           2       0.33      0.02      0.04        50\n",
      "           3       0.80      0.77      0.78       128\n",
      "\n",
      "    accuracy                           0.64       506\n",
      "   macro avg       0.58      0.51      0.50       506\n",
      "weighted avg       0.62      0.64      0.61       506\n",
      "\n"
     ]
    }
   ],
   "source": [
    "# Prediction of the test sample\n",
    "y_hat = rfOpt.predict(X_test)\n",
    "classification_metric(Y_test, y_hat)"
   ]
  },
  {
   "cell_type": "markdown",
   "metadata": {},
   "source": [
    "**Linear SVM**"
   ]
  },
  {
   "cell_type": "code",
   "execution_count": null,
   "metadata": {},
   "outputs": [
    {
     "name": "stdout",
     "output_type": "stream",
     "text": [
      "Best Mean cross-validated accuracy = 0.440479, Best parameter = {'C': 0.07, 'max_iter': 8000}\n"
     ]
    }
   ],
   "source": [
    "param=[{\"C\": np.linspace(0.01, 0.1, 10), \"max_iter\": range(8000, 11000, 1000) }]\n",
    "\n",
    "svm= GridSearchCV(LinearSVC(), param, cv=10, n_jobs = -1, scoring = \"accuracy\")\n",
    "svmLinOpt=svm.fit(X_train, Y_train)\n",
    "\n",
    "print(\"Best Mean cross-validated accuracy = %f, Best parameter = %s\" % (svmLinOpt.best_score_,svmLinOpt.best_params_))"
   ]
  },
  {
   "cell_type": "code",
   "execution_count": null,
   "metadata": {},
   "outputs": [
    {
     "name": "stdout",
     "output_type": "stream",
     "text": [
      "col_0   0    1  3\n",
      "level            \n",
      "0      35   76  0\n",
      "1      30  185  2\n",
      "2       6   44  0\n",
      "3       7  121  0\n",
      "              precision    recall  f1-score   support\n",
      "\n",
      "           0       0.45      0.32      0.37       111\n",
      "           1       0.43      0.85      0.58       217\n",
      "           2       0.00      0.00      0.00        50\n",
      "           3       0.00      0.00      0.00       128\n",
      "\n",
      "    accuracy                           0.43       506\n",
      "   macro avg       0.22      0.29      0.24       506\n",
      "weighted avg       0.28      0.43      0.33       506\n",
      "\n"
     ]
    },
    {
     "name": "stderr",
     "output_type": "stream",
     "text": [
      "c:\\Users\\ikhla\\anaconda3\\lib\\site-packages\\sklearn\\metrics\\_classification.py:1318: UndefinedMetricWarning: Precision and F-score are ill-defined and being set to 0.0 in labels with no predicted samples. Use `zero_division` parameter to control this behavior.\n",
      "  _warn_prf(average, modifier, msg_start, len(result))\n",
      "c:\\Users\\ikhla\\anaconda3\\lib\\site-packages\\sklearn\\metrics\\_classification.py:1318: UndefinedMetricWarning: Precision and F-score are ill-defined and being set to 0.0 in labels with no predicted samples. Use `zero_division` parameter to control this behavior.\n",
      "  _warn_prf(average, modifier, msg_start, len(result))\n",
      "c:\\Users\\ikhla\\anaconda3\\lib\\site-packages\\sklearn\\metrics\\_classification.py:1318: UndefinedMetricWarning: Precision and F-score are ill-defined and being set to 0.0 in labels with no predicted samples. Use `zero_division` parameter to control this behavior.\n",
      "  _warn_prf(average, modifier, msg_start, len(result))\n"
     ]
    }
   ],
   "source": [
    "# Prediction of the test sample\n",
    "y_hat = svmLinOpt.predict(X_test)\n",
    "classification_metric(Y_test, y_hat)"
   ]
  },
  {
   "cell_type": "markdown",
   "metadata": {},
   "source": [
    "Prévisible : la pauvreté n'a aucune raison d'être linéaire selon les coordonées GPS"
   ]
  },
  {
   "cell_type": "markdown",
   "metadata": {},
   "source": [
    "**SVM with polynomial kernel(degree 3)**"
   ]
  },
  {
   "cell_type": "code",
   "execution_count": 38,
   "metadata": {},
   "outputs": [
    {
     "name": "stdout",
     "output_type": "stream",
     "text": [
      "Best Mean cross-validated accuracy = 0.418761, Best parameter = {'coef0': 1.5}\n"
     ]
    }
   ],
   "source": [
    "param = [{\"coef0\": np.linspace(0, 3, 5) }]\n",
    "svm = GridSearchCV(SVC(kernel=\"poly\"),param,cv=10,n_jobs=-1, scoring = \"accuracy\")\n",
    "svmPolyOpt=svm.fit(X_train, Y_train)\n",
    "print(\"Best Mean cross-validated accuracy = %f, Best parameter = %s\" % (svmPolyOpt.best_score_, svmPolyOpt.best_params_))"
   ]
  },
  {
   "cell_type": "code",
   "execution_count": 39,
   "metadata": {},
   "outputs": [
    {
     "name": "stdout",
     "output_type": "stream",
     "text": [
      "col_0    1  3\n",
      "level        \n",
      "0      111  0\n",
      "1      215  2\n",
      "2       50  0\n",
      "3      128  0\n",
      "              precision    recall  f1-score   support\n",
      "\n",
      "           0       0.00      0.00      0.00       111\n",
      "           1       0.43      0.99      0.60       217\n",
      "           2       0.00      0.00      0.00        50\n",
      "           3       0.00      0.00      0.00       128\n",
      "\n",
      "    accuracy                           0.42       506\n",
      "   macro avg       0.11      0.25      0.15       506\n",
      "weighted avg       0.18      0.42      0.26       506\n",
      "\n"
     ]
    },
    {
     "name": "stderr",
     "output_type": "stream",
     "text": [
      "c:\\Users\\ikhla\\anaconda3\\lib\\site-packages\\sklearn\\metrics\\_classification.py:1318: UndefinedMetricWarning: Precision and F-score are ill-defined and being set to 0.0 in labels with no predicted samples. Use `zero_division` parameter to control this behavior.\n",
      "  _warn_prf(average, modifier, msg_start, len(result))\n",
      "c:\\Users\\ikhla\\anaconda3\\lib\\site-packages\\sklearn\\metrics\\_classification.py:1318: UndefinedMetricWarning: Precision and F-score are ill-defined and being set to 0.0 in labels with no predicted samples. Use `zero_division` parameter to control this behavior.\n",
      "  _warn_prf(average, modifier, msg_start, len(result))\n",
      "c:\\Users\\ikhla\\anaconda3\\lib\\site-packages\\sklearn\\metrics\\_classification.py:1318: UndefinedMetricWarning: Precision and F-score are ill-defined and being set to 0.0 in labels with no predicted samples. Use `zero_division` parameter to control this behavior.\n",
      "  _warn_prf(average, modifier, msg_start, len(result))\n"
     ]
    }
   ],
   "source": [
    "# Prediction of the test sample\n",
    "y_hat = svmPolyOpt.predict(X_test)\n",
    "classification_metric(Y_test, y_hat)"
   ]
  },
  {
   "cell_type": "markdown",
   "metadata": {},
   "source": [
    "**SVM with radial kernel**"
   ]
  },
  {
   "cell_type": "code",
   "execution_count": 35,
   "metadata": {},
   "outputs": [
    {
     "name": "stdout",
     "output_type": "stream",
     "text": [
      "Best Mean cross-validated accuracy = 0.526401, Best parameter = {'C': 4.0, 'gamma': 0.08900000000000001}\n"
     ]
    }
   ],
   "source": [
    "param=[{\"C\" : np.linspace(1,10,10),\"gamma\":np.linspace(0.001, 0.1, 10)}]\n",
    "\n",
    "svm= GridSearchCV(SVC(kernel=\"rbf\"), param, cv=10, n_jobs=-1,scoring = \"accuracy\")\n",
    "svmRadOpt=svm.fit(X_train, Y_train)\n",
    "\n",
    "print(\"Best Mean cross-validated accuracy = %f, Best parameter = %s\" % (svmRadOpt.best_score_,svmRadOpt.best_params_))"
   ]
  },
  {
   "cell_type": "code",
   "execution_count": 36,
   "metadata": {},
   "outputs": [
    {
     "name": "stdout",
     "output_type": "stream",
     "text": [
      "col_0   0    1   3\n",
      "level             \n",
      "0      49   54   8\n",
      "1      38  135  44\n",
      "2       8   30  12\n",
      "3       6   37  85\n",
      "              precision    recall  f1-score   support\n",
      "\n",
      "           0       0.49      0.44      0.46       111\n",
      "           1       0.53      0.62      0.57       217\n",
      "           2       0.00      0.00      0.00        50\n",
      "           3       0.57      0.66      0.61       128\n",
      "\n",
      "    accuracy                           0.53       506\n",
      "   macro avg       0.40      0.43      0.41       506\n",
      "weighted avg       0.48      0.53      0.50       506\n",
      "\n"
     ]
    },
    {
     "name": "stderr",
     "output_type": "stream",
     "text": [
      "c:\\Users\\ikhla\\anaconda3\\lib\\site-packages\\sklearn\\metrics\\_classification.py:1318: UndefinedMetricWarning: Precision and F-score are ill-defined and being set to 0.0 in labels with no predicted samples. Use `zero_division` parameter to control this behavior.\n",
      "  _warn_prf(average, modifier, msg_start, len(result))\n",
      "c:\\Users\\ikhla\\anaconda3\\lib\\site-packages\\sklearn\\metrics\\_classification.py:1318: UndefinedMetricWarning: Precision and F-score are ill-defined and being set to 0.0 in labels with no predicted samples. Use `zero_division` parameter to control this behavior.\n",
      "  _warn_prf(average, modifier, msg_start, len(result))\n",
      "c:\\Users\\ikhla\\anaconda3\\lib\\site-packages\\sklearn\\metrics\\_classification.py:1318: UndefinedMetricWarning: Precision and F-score are ill-defined and being set to 0.0 in labels with no predicted samples. Use `zero_division` parameter to control this behavior.\n",
      "  _warn_prf(average, modifier, msg_start, len(result))\n"
     ]
    }
   ],
   "source": [
    "# Prediction of the test sample\n",
    "y_hat = svmRadOpt.predict(X_test)\n",
    "classification_metric(Y_test, y_hat)"
   ]
  },
  {
   "cell_type": "markdown",
   "metadata": {},
   "source": [
    "**SVM with sigmoid kernel**"
   ]
  },
  {
   "cell_type": "code",
   "execution_count": 37,
   "metadata": {},
   "outputs": [
    {
     "name": "stdout",
     "output_type": "stream",
     "text": [
      "Best Mean cross-validated accuracy = 0.419246, Best parameter = {'C': 10.0, 'gamma': 0.001}\n"
     ]
    }
   ],
   "source": [
    "param=[{\"C\":np.linspace(1,10,10),\"gamma\":np.linspace(0.001, 0.1, 10)}]\n",
    "#param=[{\"coef0\":np.array(range(1,11))/10}]\n",
    "svm= GridSearchCV(SVC(kernel=\"sigmoid\", coef0=0),param,cv=10,n_jobs=-1,scoring = \"accuracy\")\n",
    "svmSigOpt=svm.fit(X_train, Y_train)\n",
    "print(\"Best Mean cross-validated accuracy = %f, Best parameter = %s\" % (svmSigOpt.best_score_,svmSigOpt.best_params_))"
   ]
  },
  {
   "cell_type": "code",
   "execution_count": 27,
   "metadata": {},
   "outputs": [
    {
     "name": "stdout",
     "output_type": "stream",
     "text": [
      "col_0   0    1   3\n",
      "level             \n",
      "0      50   53   8\n",
      "1      41  135  41\n",
      "2       8   29  13\n",
      "3       6   42  80\n",
      "              precision    recall  f1-score   support\n",
      "\n",
      "           0       0.48      0.45      0.46       111\n",
      "           1       0.52      0.62      0.57       217\n",
      "           2       0.00      0.00      0.00        50\n",
      "           3       0.56      0.62      0.59       128\n",
      "\n",
      "    accuracy                           0.52       506\n",
      "   macro avg       0.39      0.42      0.41       506\n",
      "weighted avg       0.47      0.52      0.49       506\n",
      "\n"
     ]
    },
    {
     "name": "stderr",
     "output_type": "stream",
     "text": [
      "c:\\Users\\ikhla\\anaconda3\\lib\\site-packages\\sklearn\\metrics\\_classification.py:1318: UndefinedMetricWarning: Precision and F-score are ill-defined and being set to 0.0 in labels with no predicted samples. Use `zero_division` parameter to control this behavior.\n",
      "  _warn_prf(average, modifier, msg_start, len(result))\n",
      "c:\\Users\\ikhla\\anaconda3\\lib\\site-packages\\sklearn\\metrics\\_classification.py:1318: UndefinedMetricWarning: Precision and F-score are ill-defined and being set to 0.0 in labels with no predicted samples. Use `zero_division` parameter to control this behavior.\n",
      "  _warn_prf(average, modifier, msg_start, len(result))\n",
      "c:\\Users\\ikhla\\anaconda3\\lib\\site-packages\\sklearn\\metrics\\_classification.py:1318: UndefinedMetricWarning: Precision and F-score are ill-defined and being set to 0.0 in labels with no predicted samples. Use `zero_division` parameter to control this behavior.\n",
      "  _warn_prf(average, modifier, msg_start, len(result))\n"
     ]
    }
   ],
   "source": [
    "# Prediction of the test sample\n",
    "y_hat = svmRadOpt.predict(X_test)\n",
    "classification_metric(Y_test, y_hat)"
   ]
  },
  {
   "cell_type": "markdown",
   "metadata": {},
   "source": [
    "**Gaussian Process**"
   ]
  },
  {
   "cell_type": "code",
   "execution_count": null,
   "metadata": {},
   "outputs": [],
   "source": [
    "GPC = GaussianProcessClassifier(kernel = 0.5*RBF(3.0), random_state = 42, multi_class = \"one_vs_rest\")\n",
    "GPC.fit(X_train, Y_train)\n",
    "print(GPC.score(X_train, Y_train))\n",
    "print(GPC.score(X_test, Y_test))"
   ]
  },
  {
   "cell_type": "code",
   "execution_count": null,
   "metadata": {},
   "outputs": [],
   "source": [
    "GPC = GaussianProcessClassifier(kernel = Matern(3.0, nu = 1.5), random_state = 42, multi_class = \"one_vs_rest\")\n",
    "GPC.fit(X_train, Y_train)\n",
    "print(GPC.score(X_train, Y_train))\n",
    "print(GPC.score(X_test, Y_test))"
   ]
  }
 ],
 "metadata": {
  "kernelspec": {
   "display_name": "Python 3.8.8 ('base')",
   "language": "python",
   "name": "python3"
  },
  "language_info": {
   "codemirror_mode": {
    "name": "ipython",
    "version": 3
   },
   "file_extension": ".py",
   "mimetype": "text/x-python",
   "name": "python",
   "nbconvert_exporter": "python",
   "pygments_lexer": "ipython3",
   "version": "3.8.8"
  },
  "orig_nbformat": 4,
  "vscode": {
   "interpreter": {
    "hash": "477b6ecbb3a91940993836e73eb52c40eabc98513734b00b9d364182bec38851"
   }
  }
 },
 "nbformat": 4,
 "nbformat_minor": 2
}
