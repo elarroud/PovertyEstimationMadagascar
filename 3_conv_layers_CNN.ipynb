{
  "cells": [
    {
      "cell_type": "markdown",
      "metadata": {
        "id": "view-in-github",
        "colab_type": "text"
      },
      "source": [
        "<a href=\"https://colab.research.google.com/github/elarroud/PovertyEstimationMadagascar/blob/master/3_conv_layers_CNN.ipynb\" target=\"_parent\"><img src=\"https://colab.research.google.com/assets/colab-badge.svg\" alt=\"Open In Colab\"/></a>"
      ]
    },
    {
      "cell_type": "code",
      "execution_count": null,
      "metadata": {
        "id": "U9wjVQzlSqm5"
      },
      "outputs": [],
      "source": [
        "import keras\n",
        "from keras.models import Sequential\n",
        "from keras.layers import Dense, Dropout, Activation, Flatten\n",
        "from keras.layers import Conv2D, MaxPooling2D\n",
        "\n",
        "from keras import backend as K"
      ]
    },
    {
      "cell_type": "code",
      "execution_count": null,
      "metadata": {
        "id": "Waww3SPUS55C"
      },
      "outputs": [],
      "source": [
        "batch_size = 150\n",
        "epochs =100\n",
        "img_rows, img_cols = 576, 576"
      ]
    },
    {
      "cell_type": "code",
      "execution_count": null,
      "metadata": {
        "colab": {
          "base_uri": "https://localhost:8080/"
        },
        "id": "kQUkAM6PXFIS",
        "outputId": "d71bde70-55bd-4650-b38b-254cbfd6d7b9"
      },
      "outputs": [
        {
          "name": "stdout",
          "output_type": "stream",
          "text": [
            "Mounted at /content/gdrive/\n"
          ]
        }
      ],
      "source": [
        "from google.colab import drive\n",
        "drive.mount('/content/gdrive/')\n",
        "import os\n",
        "os.chdir('/content/gdrive/My Drive')"
      ]
    },
    {
      "cell_type": "code",
      "execution_count": null,
      "metadata": {
        "id": "cEhBDcNRXQSu"
      },
      "outputs": [],
      "source": [
        "import pandas as pd\n",
        "import numpy as np\n",
        "clusters = pd.read_csv('all_merged.csv')\n",
        "clusters_2018 = clusters[clusters['year']==2018]\n",
        "\n",
        "train_cluster = clusters_2018.loc[list(np.arange(1757, 2426, 1))]\n",
        "test_cluster = clusters_2018.loc[2426:]\n"
      ]
    },
    {
      "cell_type": "code",
      "execution_count": null,
      "metadata": {
        "id": "wz4C80dFYJL6"
      },
      "outputs": [],
      "source": [
        "# Importing Image class from PIL module\n",
        "from PIL import Image\n",
        "import tensorflow as tf\n",
        "X = []\n",
        "# Opens a image in RGB mode\n",
        "for i in range(len(train_cluster)):\n",
        "  name= 'img'+str(train_cluster.index[i])\n",
        "  im = Image.open(\"./Mada_2018/\"+str(train_cluster.index[i])+\".png\")\n",
        "  im_array = tf.keras.preprocessing.image.img_to_array(im)\n",
        "  im_array = im_array[160:416, 160:416,:]\n",
        "  X.append(im_array)\n",
        "X = np.array(X)"
      ]
    },
    {
      "cell_type": "code",
      "execution_count": null,
      "metadata": {
        "id": "wZTjOxtubWgI"
      },
      "outputs": [],
      "source": [
        "from sklearn.model_selection import train_test_split\n",
        "y= clusters_2018['wealth_index'][:669]  \n",
        "X_train, X_test, y_train, y_test = train_test_split(X, y, test_size=0.20, random_state=42)"
      ]
    },
    {
      "cell_type": "code",
      "execution_count": null,
      "metadata": {
        "colab": {
          "base_uri": "https://localhost:8080/"
        },
        "id": "nj8gH043O_vr",
        "outputId": "7c20fb22-0b88-4455-f0ae-234e70af41bc"
      },
      "outputs": [
        {
          "data": {
            "text/plain": [
              "(256, 256, 4)"
            ]
          },
          "execution_count": 8,
          "metadata": {},
          "output_type": "execute_result"
        }
      ],
      "source": [
        "X_train[0].shape"
      ]
    },
    {
      "cell_type": "code",
      "execution_count": null,
      "metadata": {
        "colab": {
          "base_uri": "https://localhost:8080/"
        },
        "id": "LPJnI4qBS6a3",
        "outputId": "a2f57f76-a7f9-4446-8bb7-e616dce59e2d"
      },
      "outputs": [
        {
          "name": "stdout",
          "output_type": "stream",
          "text": [
            "x_train shape: (535, 256, 256, 4)\n",
            "x_test shape: (134, 256, 256, 4)\n",
            "535 train samples\n",
            "134 test samples\n"
          ]
        }
      ],
      "source": [
        "print('x_train shape:', X_train.shape)\n",
        "print('x_test shape:', X_test.shape)\n",
        "print(X_train.shape[0], 'train samples')\n",
        "print(X_test.shape[0], 'test samples')"
      ]
    },
    {
      "cell_type": "code",
      "execution_count": null,
      "metadata": {
        "id": "wVMsegQLTO8h"
      },
      "outputs": [],
      "source": [
        "def r2_keras(y_true, y_pred):\n",
        "    SS_res =  K.sum(K.square( y_true - y_pred )) \n",
        "    SS_tot = K.sum(K.square( y_true - K.mean(y_true) ) ) \n",
        "    return ( 1 - SS_res/(SS_tot + K.epsilon()) )"
      ]
    },
    {
      "cell_type": "code",
      "execution_count": null,
      "metadata": {
        "colab": {
          "base_uri": "https://localhost:8080/"
        },
        "id": "IanjhxZVSauz",
        "outputId": "bcbb039b-2293-4f51-c4f9-c1bd77a5803d"
      },
      "outputs": [
        {
          "name": "stdout",
          "output_type": "stream",
          "text": [
            "Model: \"sequential_1\"\n",
            "_________________________________________________________________\n",
            " Layer (type)                Output Shape              Param #   \n",
            "=================================================================\n",
            " conv2d_3 (Conv2D)           (None, 254, 254, 64)      2368      \n",
            "                                                                 \n",
            " conv2d_4 (Conv2D)           (None, 252, 252, 32)      18464     \n",
            "                                                                 \n",
            " conv2d_5 (Conv2D)           (None, 250, 250, 16)      4624      \n",
            "                                                                 \n",
            " max_pooling2d (MaxPooling2D  (None, 125, 125, 16)     0         \n",
            " )                                                               \n",
            "                                                                 \n",
            " flatten (Flatten)           (None, 250000)            0         \n",
            "                                                                 \n",
            " dense (Dense)               (None, 1)                 250001    \n",
            "                                                                 \n",
            "=================================================================\n",
            "Total params: 275,457\n",
            "Trainable params: 275,457\n",
            "Non-trainable params: 0\n",
            "_________________________________________________________________\n"
          ]
        }
      ],
      "source": [
        "from keras.models import Sequential\n",
        "from keras.layers import Dense, Conv2D, Flatten, MaxPooling2D\n",
        "#create model\n",
        "model = Sequential()\n",
        "#add model layers\n",
        "model.add(Conv2D(64, kernel_size=3, activation='relu', input_shape=(256,256,4)))\n",
        "model.add(Conv2D(32, kernel_size=3, activation='relu'))\n",
        "model.add(Conv2D(16, kernel_size=3, activation='relu'))\n",
        "model.add(MaxPooling2D(pool_size=(2, 2)))\n",
        "model.add(Flatten())\n",
        "model.add(Dense(1, activation='linear'))\n",
        "model.compile(loss='mean_squared_error', # one may use 'mean_absolute_error' as  mean_squared_error\n",
        "                  optimizer='adam',\n",
        "                  metrics=[r2_keras]) # you can add several if needed\n",
        "model.summary()"
      ]
    },
    {
      "cell_type": "code",
      "execution_count": null,
      "metadata": {
        "colab": {
          "base_uri": "https://localhost:8080/",
          "height": 732
        },
        "id": "YYF9MZEcEXle",
        "outputId": "4b1a78b9-3663-41e4-f8a6-5eef3fc51970"
      },
      "outputs": [
        {
          "name": "stdout",
          "output_type": "stream",
          "text": [
            "Epoch 1/100\n",
            "4/4 - 190s - loss: 305681664.0000 - r2_keras: -1.4284e+08 - val_loss: 87545864.0000 - val_r2_keras: -5.3194e+07 - 190s/epoch - 48s/step\n",
            "Epoch 2/100\n",
            "4/4 - 173s - loss: 60434588.0000 - r2_keras: -3.3961e+07 - val_loss: 2395734.2500 - val_r2_keras: -1.4557e+06 - 173s/epoch - 43s/step\n",
            "Epoch 3/100\n",
            "4/4 - 184s - loss: 5546025.0000 - r2_keras: -2.9770e+06 - val_loss: 203971.2188 - val_r2_keras: -1.2393e+05 - 184s/epoch - 46s/step\n",
            "Epoch 4/100\n",
            "4/4 - 176s - loss: 73643.9688 - r2_keras: -4.1844e+04 - val_loss: 1.6685 - val_r2_keras: -1.3814e-02 - 176s/epoch - 44s/step\n",
            "Epoch 5/100\n",
            "4/4 - 173s - loss: 1.8040 - r2_keras: -1.4631e-02 - val_loss: 1.6701 - val_r2_keras: -1.4747e-02 - 173s/epoch - 43s/step\n",
            "Epoch 6/100\n",
            "4/4 - 182s - loss: 1.7968 - r2_keras: -1.7713e-02 - val_loss: 1.6701 - val_r2_keras: -1.4745e-02 - 182s/epoch - 45s/step\n",
            "Epoch 7/100\n",
            "4/4 - 185s - loss: 1.7967 - r2_keras: -2.3451e-03 - val_loss: 1.6701 - val_r2_keras: -1.4745e-02 - 185s/epoch - 46s/step\n",
            "Epoch 8/100\n",
            "4/4 - 177s - loss: 1.7968 - r2_keras: -1.1815e-02 - val_loss: 1.6701 - val_r2_keras: -1.4744e-02 - 177s/epoch - 44s/step\n",
            "Epoch 9/100\n",
            "4/4 - 175s - loss: 1.7968 - r2_keras: -8.1480e-03 - val_loss: 1.6701 - val_r2_keras: -1.4744e-02 - 175s/epoch - 44s/step\n",
            "Epoch 10/100\n"
          ]
        },
        {
          "ename": "KeyboardInterrupt",
          "evalue": "ignored",
          "output_type": "error",
          "traceback": [
            "\u001b[0;31m---------------------------------------------------------------------------\u001b[0m",
            "\u001b[0;31mKeyboardInterrupt\u001b[0m                         Traceback (most recent call last)",
            "\u001b[0;32m<ipython-input-20-2ea120c0d163>\u001b[0m in \u001b[0;36m<module>\u001b[0;34m\u001b[0m\n\u001b[1;32m      3\u001b[0m           \u001b[0mepochs\u001b[0m\u001b[0;34m=\u001b[0m\u001b[0mepochs\u001b[0m\u001b[0;34m,\u001b[0m\u001b[0;34m\u001b[0m\u001b[0;34m\u001b[0m\u001b[0m\n\u001b[1;32m      4\u001b[0m           \u001b[0mverbose\u001b[0m\u001b[0;34m=\u001b[0m\u001b[0;36m2\u001b[0m\u001b[0;34m,\u001b[0m\u001b[0;34m\u001b[0m\u001b[0;34m\u001b[0m\u001b[0m\n\u001b[0;32m----> 5\u001b[0;31m           validation_data=(X_test, y_test))\n\u001b[0m\u001b[1;32m      6\u001b[0m \u001b[0mscore\u001b[0m \u001b[0;34m=\u001b[0m \u001b[0mmodel\u001b[0m\u001b[0;34m.\u001b[0m\u001b[0mevaluate\u001b[0m\u001b[0;34m(\u001b[0m\u001b[0mX_test\u001b[0m\u001b[0;34m,\u001b[0m \u001b[0my_test\u001b[0m\u001b[0;34m,\u001b[0m \u001b[0mverbose\u001b[0m\u001b[0;34m=\u001b[0m\u001b[0;36m0\u001b[0m\u001b[0;34m)\u001b[0m\u001b[0;34m\u001b[0m\u001b[0;34m\u001b[0m\u001b[0m\n",
            "\u001b[0;32m/usr/local/lib/python3.7/dist-packages/keras/utils/traceback_utils.py\u001b[0m in \u001b[0;36merror_handler\u001b[0;34m(*args, **kwargs)\u001b[0m\n\u001b[1;32m     62\u001b[0m     \u001b[0mfiltered_tb\u001b[0m \u001b[0;34m=\u001b[0m \u001b[0;32mNone\u001b[0m\u001b[0;34m\u001b[0m\u001b[0;34m\u001b[0m\u001b[0m\n\u001b[1;32m     63\u001b[0m     \u001b[0;32mtry\u001b[0m\u001b[0;34m:\u001b[0m\u001b[0;34m\u001b[0m\u001b[0;34m\u001b[0m\u001b[0m\n\u001b[0;32m---> 64\u001b[0;31m       \u001b[0;32mreturn\u001b[0m \u001b[0mfn\u001b[0m\u001b[0;34m(\u001b[0m\u001b[0;34m*\u001b[0m\u001b[0margs\u001b[0m\u001b[0;34m,\u001b[0m \u001b[0;34m**\u001b[0m\u001b[0mkwargs\u001b[0m\u001b[0;34m)\u001b[0m\u001b[0;34m\u001b[0m\u001b[0;34m\u001b[0m\u001b[0m\n\u001b[0m\u001b[1;32m     65\u001b[0m     \u001b[0;32mexcept\u001b[0m \u001b[0mException\u001b[0m \u001b[0;32mas\u001b[0m \u001b[0me\u001b[0m\u001b[0;34m:\u001b[0m  \u001b[0;31m# pylint: disable=broad-except\u001b[0m\u001b[0;34m\u001b[0m\u001b[0;34m\u001b[0m\u001b[0m\n\u001b[1;32m     66\u001b[0m       \u001b[0mfiltered_tb\u001b[0m \u001b[0;34m=\u001b[0m \u001b[0m_process_traceback_frames\u001b[0m\u001b[0;34m(\u001b[0m\u001b[0me\u001b[0m\u001b[0;34m.\u001b[0m\u001b[0m__traceback__\u001b[0m\u001b[0;34m)\u001b[0m\u001b[0;34m\u001b[0m\u001b[0;34m\u001b[0m\u001b[0m\n",
            "\u001b[0;32m/usr/local/lib/python3.7/dist-packages/keras/engine/training.py\u001b[0m in \u001b[0;36mfit\u001b[0;34m(self, x, y, batch_size, epochs, verbose, callbacks, validation_split, validation_data, shuffle, class_weight, sample_weight, initial_epoch, steps_per_epoch, validation_steps, validation_batch_size, validation_freq, max_queue_size, workers, use_multiprocessing)\u001b[0m\n\u001b[1;32m   1382\u001b[0m                 _r=1):\n\u001b[1;32m   1383\u001b[0m               \u001b[0mcallbacks\u001b[0m\u001b[0;34m.\u001b[0m\u001b[0mon_train_batch_begin\u001b[0m\u001b[0;34m(\u001b[0m\u001b[0mstep\u001b[0m\u001b[0;34m)\u001b[0m\u001b[0;34m\u001b[0m\u001b[0;34m\u001b[0m\u001b[0m\n\u001b[0;32m-> 1384\u001b[0;31m               \u001b[0mtmp_logs\u001b[0m \u001b[0;34m=\u001b[0m \u001b[0mself\u001b[0m\u001b[0;34m.\u001b[0m\u001b[0mtrain_function\u001b[0m\u001b[0;34m(\u001b[0m\u001b[0miterator\u001b[0m\u001b[0;34m)\u001b[0m\u001b[0;34m\u001b[0m\u001b[0;34m\u001b[0m\u001b[0m\n\u001b[0m\u001b[1;32m   1385\u001b[0m               \u001b[0;32mif\u001b[0m \u001b[0mdata_handler\u001b[0m\u001b[0;34m.\u001b[0m\u001b[0mshould_sync\u001b[0m\u001b[0;34m:\u001b[0m\u001b[0;34m\u001b[0m\u001b[0;34m\u001b[0m\u001b[0m\n\u001b[1;32m   1386\u001b[0m                 \u001b[0mcontext\u001b[0m\u001b[0;34m.\u001b[0m\u001b[0masync_wait\u001b[0m\u001b[0;34m(\u001b[0m\u001b[0;34m)\u001b[0m\u001b[0;34m\u001b[0m\u001b[0;34m\u001b[0m\u001b[0m\n",
            "\u001b[0;32m/usr/local/lib/python3.7/dist-packages/tensorflow/python/util/traceback_utils.py\u001b[0m in \u001b[0;36merror_handler\u001b[0;34m(*args, **kwargs)\u001b[0m\n\u001b[1;32m    148\u001b[0m     \u001b[0mfiltered_tb\u001b[0m \u001b[0;34m=\u001b[0m \u001b[0;32mNone\u001b[0m\u001b[0;34m\u001b[0m\u001b[0;34m\u001b[0m\u001b[0m\n\u001b[1;32m    149\u001b[0m     \u001b[0;32mtry\u001b[0m\u001b[0;34m:\u001b[0m\u001b[0;34m\u001b[0m\u001b[0;34m\u001b[0m\u001b[0m\n\u001b[0;32m--> 150\u001b[0;31m       \u001b[0;32mreturn\u001b[0m \u001b[0mfn\u001b[0m\u001b[0;34m(\u001b[0m\u001b[0;34m*\u001b[0m\u001b[0margs\u001b[0m\u001b[0;34m,\u001b[0m \u001b[0;34m**\u001b[0m\u001b[0mkwargs\u001b[0m\u001b[0;34m)\u001b[0m\u001b[0;34m\u001b[0m\u001b[0;34m\u001b[0m\u001b[0m\n\u001b[0m\u001b[1;32m    151\u001b[0m     \u001b[0;32mexcept\u001b[0m \u001b[0mException\u001b[0m \u001b[0;32mas\u001b[0m \u001b[0me\u001b[0m\u001b[0;34m:\u001b[0m\u001b[0;34m\u001b[0m\u001b[0;34m\u001b[0m\u001b[0m\n\u001b[1;32m    152\u001b[0m       \u001b[0mfiltered_tb\u001b[0m \u001b[0;34m=\u001b[0m \u001b[0m_process_traceback_frames\u001b[0m\u001b[0;34m(\u001b[0m\u001b[0me\u001b[0m\u001b[0;34m.\u001b[0m\u001b[0m__traceback__\u001b[0m\u001b[0;34m)\u001b[0m\u001b[0;34m\u001b[0m\u001b[0;34m\u001b[0m\u001b[0m\n",
            "\u001b[0;32m/usr/local/lib/python3.7/dist-packages/tensorflow/python/eager/def_function.py\u001b[0m in \u001b[0;36m__call__\u001b[0;34m(self, *args, **kwds)\u001b[0m\n\u001b[1;32m    913\u001b[0m \u001b[0;34m\u001b[0m\u001b[0m\n\u001b[1;32m    914\u001b[0m       \u001b[0;32mwith\u001b[0m \u001b[0mOptionalXlaContext\u001b[0m\u001b[0;34m(\u001b[0m\u001b[0mself\u001b[0m\u001b[0;34m.\u001b[0m\u001b[0m_jit_compile\u001b[0m\u001b[0;34m)\u001b[0m\u001b[0;34m:\u001b[0m\u001b[0;34m\u001b[0m\u001b[0;34m\u001b[0m\u001b[0m\n\u001b[0;32m--> 915\u001b[0;31m         \u001b[0mresult\u001b[0m \u001b[0;34m=\u001b[0m \u001b[0mself\u001b[0m\u001b[0;34m.\u001b[0m\u001b[0m_call\u001b[0m\u001b[0;34m(\u001b[0m\u001b[0;34m*\u001b[0m\u001b[0margs\u001b[0m\u001b[0;34m,\u001b[0m \u001b[0;34m**\u001b[0m\u001b[0mkwds\u001b[0m\u001b[0;34m)\u001b[0m\u001b[0;34m\u001b[0m\u001b[0;34m\u001b[0m\u001b[0m\n\u001b[0m\u001b[1;32m    916\u001b[0m \u001b[0;34m\u001b[0m\u001b[0m\n\u001b[1;32m    917\u001b[0m       \u001b[0mnew_tracing_count\u001b[0m \u001b[0;34m=\u001b[0m \u001b[0mself\u001b[0m\u001b[0;34m.\u001b[0m\u001b[0mexperimental_get_tracing_count\u001b[0m\u001b[0;34m(\u001b[0m\u001b[0;34m)\u001b[0m\u001b[0;34m\u001b[0m\u001b[0;34m\u001b[0m\u001b[0m\n",
            "\u001b[0;32m/usr/local/lib/python3.7/dist-packages/tensorflow/python/eager/def_function.py\u001b[0m in \u001b[0;36m_call\u001b[0;34m(self, *args, **kwds)\u001b[0m\n\u001b[1;32m    945\u001b[0m       \u001b[0;31m# In this case we have created variables on the first call, so we run the\u001b[0m\u001b[0;34m\u001b[0m\u001b[0;34m\u001b[0m\u001b[0;34m\u001b[0m\u001b[0m\n\u001b[1;32m    946\u001b[0m       \u001b[0;31m# defunned version which is guaranteed to never create variables.\u001b[0m\u001b[0;34m\u001b[0m\u001b[0;34m\u001b[0m\u001b[0;34m\u001b[0m\u001b[0m\n\u001b[0;32m--> 947\u001b[0;31m       \u001b[0;32mreturn\u001b[0m \u001b[0mself\u001b[0m\u001b[0;34m.\u001b[0m\u001b[0m_stateless_fn\u001b[0m\u001b[0;34m(\u001b[0m\u001b[0;34m*\u001b[0m\u001b[0margs\u001b[0m\u001b[0;34m,\u001b[0m \u001b[0;34m**\u001b[0m\u001b[0mkwds\u001b[0m\u001b[0;34m)\u001b[0m  \u001b[0;31m# pylint: disable=not-callable\u001b[0m\u001b[0;34m\u001b[0m\u001b[0;34m\u001b[0m\u001b[0m\n\u001b[0m\u001b[1;32m    948\u001b[0m     \u001b[0;32melif\u001b[0m \u001b[0mself\u001b[0m\u001b[0;34m.\u001b[0m\u001b[0m_stateful_fn\u001b[0m \u001b[0;32mis\u001b[0m \u001b[0;32mnot\u001b[0m \u001b[0;32mNone\u001b[0m\u001b[0;34m:\u001b[0m\u001b[0;34m\u001b[0m\u001b[0;34m\u001b[0m\u001b[0m\n\u001b[1;32m    949\u001b[0m       \u001b[0;31m# Release the lock early so that multiple threads can perform the call\u001b[0m\u001b[0;34m\u001b[0m\u001b[0;34m\u001b[0m\u001b[0;34m\u001b[0m\u001b[0m\n",
            "\u001b[0;32m/usr/local/lib/python3.7/dist-packages/tensorflow/python/eager/function.py\u001b[0m in \u001b[0;36m__call__\u001b[0;34m(self, *args, **kwargs)\u001b[0m\n\u001b[1;32m   2955\u001b[0m        filtered_flat_args) = self._maybe_define_function(args, kwargs)\n\u001b[1;32m   2956\u001b[0m     return graph_function._call_flat(\n\u001b[0;32m-> 2957\u001b[0;31m         filtered_flat_args, captured_inputs=graph_function.captured_inputs)  # pylint: disable=protected-access\n\u001b[0m\u001b[1;32m   2958\u001b[0m \u001b[0;34m\u001b[0m\u001b[0m\n\u001b[1;32m   2959\u001b[0m   \u001b[0;34m@\u001b[0m\u001b[0mproperty\u001b[0m\u001b[0;34m\u001b[0m\u001b[0;34m\u001b[0m\u001b[0m\n",
            "\u001b[0;32m/usr/local/lib/python3.7/dist-packages/tensorflow/python/eager/function.py\u001b[0m in \u001b[0;36m_call_flat\u001b[0;34m(self, args, captured_inputs, cancellation_manager)\u001b[0m\n\u001b[1;32m   1852\u001b[0m       \u001b[0;31m# No tape is watching; skip to running the function.\u001b[0m\u001b[0;34m\u001b[0m\u001b[0;34m\u001b[0m\u001b[0;34m\u001b[0m\u001b[0m\n\u001b[1;32m   1853\u001b[0m       return self._build_call_outputs(self._inference_function.call(\n\u001b[0;32m-> 1854\u001b[0;31m           ctx, args, cancellation_manager=cancellation_manager))\n\u001b[0m\u001b[1;32m   1855\u001b[0m     forward_backward = self._select_forward_and_backward_functions(\n\u001b[1;32m   1856\u001b[0m         \u001b[0margs\u001b[0m\u001b[0;34m,\u001b[0m\u001b[0;34m\u001b[0m\u001b[0;34m\u001b[0m\u001b[0m\n",
            "\u001b[0;32m/usr/local/lib/python3.7/dist-packages/tensorflow/python/eager/function.py\u001b[0m in \u001b[0;36mcall\u001b[0;34m(self, ctx, args, cancellation_manager)\u001b[0m\n\u001b[1;32m    502\u001b[0m               \u001b[0minputs\u001b[0m\u001b[0;34m=\u001b[0m\u001b[0margs\u001b[0m\u001b[0;34m,\u001b[0m\u001b[0;34m\u001b[0m\u001b[0;34m\u001b[0m\u001b[0m\n\u001b[1;32m    503\u001b[0m               \u001b[0mattrs\u001b[0m\u001b[0;34m=\u001b[0m\u001b[0mattrs\u001b[0m\u001b[0;34m,\u001b[0m\u001b[0;34m\u001b[0m\u001b[0;34m\u001b[0m\u001b[0m\n\u001b[0;32m--> 504\u001b[0;31m               ctx=ctx)\n\u001b[0m\u001b[1;32m    505\u001b[0m         \u001b[0;32melse\u001b[0m\u001b[0;34m:\u001b[0m\u001b[0;34m\u001b[0m\u001b[0;34m\u001b[0m\u001b[0m\n\u001b[1;32m    506\u001b[0m           outputs = execute.execute_with_cancellation(\n",
            "\u001b[0;32m/usr/local/lib/python3.7/dist-packages/tensorflow/python/eager/execute.py\u001b[0m in \u001b[0;36mquick_execute\u001b[0;34m(op_name, num_outputs, inputs, attrs, ctx, name)\u001b[0m\n\u001b[1;32m     53\u001b[0m     \u001b[0mctx\u001b[0m\u001b[0;34m.\u001b[0m\u001b[0mensure_initialized\u001b[0m\u001b[0;34m(\u001b[0m\u001b[0;34m)\u001b[0m\u001b[0;34m\u001b[0m\u001b[0;34m\u001b[0m\u001b[0m\n\u001b[1;32m     54\u001b[0m     tensors = pywrap_tfe.TFE_Py_Execute(ctx._handle, device_name, op_name,\n\u001b[0;32m---> 55\u001b[0;31m                                         inputs, attrs, num_outputs)\n\u001b[0m\u001b[1;32m     56\u001b[0m   \u001b[0;32mexcept\u001b[0m \u001b[0mcore\u001b[0m\u001b[0;34m.\u001b[0m\u001b[0m_NotOkStatusException\u001b[0m \u001b[0;32mas\u001b[0m \u001b[0me\u001b[0m\u001b[0;34m:\u001b[0m\u001b[0;34m\u001b[0m\u001b[0;34m\u001b[0m\u001b[0m\n\u001b[1;32m     57\u001b[0m     \u001b[0;32mif\u001b[0m \u001b[0mname\u001b[0m \u001b[0;32mis\u001b[0m \u001b[0;32mnot\u001b[0m \u001b[0;32mNone\u001b[0m\u001b[0;34m:\u001b[0m\u001b[0;34m\u001b[0m\u001b[0;34m\u001b[0m\u001b[0m\n",
            "\u001b[0;31mKeyboardInterrupt\u001b[0m: "
          ]
        }
      ],
      "source": [
        "model.fit(X_train, y_train,\n",
        "          batch_size=batch_size,\n",
        "          epochs=epochs,\n",
        "          verbose=2,\n",
        "          validation_data=(X_test, y_test))\n",
        "score = model.evaluate(X_test, y_test, verbose=0)"
      ]
    },
    {
      "cell_type": "code",
      "execution_count": null,
      "metadata": {
        "colab": {
          "background_save": true,
          "base_uri": "https://localhost:8080/"
        },
        "id": "ktD-YuowQJHa",
        "outputId": "a2cd9350-3f8f-4bc5-cc7d-110c41fd4a32"
      },
      "outputs": [
        {
          "name": "stdout",
          "output_type": "stream",
          "text": [
            "Epoch 1/100\n",
            "4/4 - 235s - loss: 112792112.0000 - r2_keras: -5.2219e+07 - val_loss: 7190225.5000 - val_r2_keras: -4.3689e+06 - 235s/epoch - 59s/step\n",
            "Epoch 2/100\n",
            "4/4 - 236s - loss: 8482716.0000 - r2_keras: -5.3056e+06 - val_loss: 6010132.5000 - val_r2_keras: -3.6518e+06 - 236s/epoch - 59s/step\n",
            "Epoch 3/100\n",
            "4/4 - 235s - loss: 3598774.2500 - r2_keras: -2.0386e+06 - val_loss: 612567.3125 - val_r2_keras: -3.7220e+05 - 235s/epoch - 59s/step\n",
            "Epoch 4/100\n",
            "4/4 - 237s - loss: 1199412.3750 - r2_keras: -6.9564e+05 - val_loss: 682389.2500 - val_r2_keras: -4.1463e+05 - 237s/epoch - 59s/step\n",
            "Epoch 5/100\n",
            "4/4 - 241s - loss: 418426.4375 - r2_keras: -2.7828e+05 - val_loss: 987341.5625 - val_r2_keras: -5.9992e+05 - 241s/epoch - 60s/step\n",
            "Epoch 6/100\n",
            "4/4 - 230s - loss: 541026.3125 - r2_keras: -2.6459e+05 - val_loss: 134655.9844 - val_r2_keras: -8.1817e+04 - 230s/epoch - 58s/step\n",
            "Epoch 7/100\n",
            "4/4 - 233s - loss: 353149.9375 - r2_keras: -1.9285e+05 - val_loss: 174062.0156 - val_r2_keras: -1.0576e+05 - 233s/epoch - 58s/step\n",
            "Epoch 8/100\n",
            "4/4 - 247s - loss: 99607.0078 - r2_keras: -8.3196e+04 - val_loss: 251039.9375 - val_r2_keras: -1.5253e+05 - 247s/epoch - 62s/step\n",
            "Epoch 9/100\n",
            "4/4 - 239s - loss: 197815.9219 - r2_keras: -1.0012e+05 - val_loss: 30556.7344 - val_r2_keras: -1.8566e+04 - 239s/epoch - 60s/step\n",
            "Epoch 10/100\n",
            "4/4 - 245s - loss: 88118.6094 - r2_keras: -5.4491e+04 - val_loss: 119469.0938 - val_r2_keras: -7.2590e+04 - 245s/epoch - 61s/step\n",
            "Epoch 11/100\n",
            "4/4 - 239s - loss: 56531.5938 - r2_keras: -2.9939e+04 - val_loss: 45117.5664 - val_r2_keras: -2.7413e+04 - 239s/epoch - 60s/step\n",
            "Epoch 12/100\n",
            "4/4 - 239s - loss: 55611.9492 - r2_keras: -3.0457e+04 - val_loss: 16348.4756 - val_r2_keras: -9.9325e+03 - 239s/epoch - 60s/step\n",
            "Epoch 13/100\n",
            "4/4 - 248s - loss: 14559.2354 - r2_keras: -9.2198e+03 - val_loss: 36260.8750 - val_r2_keras: -2.2032e+04 - 248s/epoch - 62s/step\n",
            "Epoch 14/100\n",
            "4/4 - 236s - loss: 23891.8496 - r2_keras: -1.2902e+04 - val_loss: 7453.7671 - val_r2_keras: -4.5280e+03 - 236s/epoch - 59s/step\n",
            "Epoch 15/100\n",
            "4/4 - 239s - loss: 13763.8818 - r2_keras: -8.5935e+03 - val_loss: 15909.0078 - val_r2_keras: -9.6655e+03 - 239s/epoch - 60s/step\n",
            "Epoch 16/100\n",
            "4/4 - 227s - loss: 8571.8984 - r2_keras: -4.7866e+03 - val_loss: 11433.6855 - val_r2_keras: -6.9462e+03 - 227s/epoch - 57s/step\n",
            "Epoch 17/100\n",
            "4/4 - 228s - loss: 10130.0879 - r2_keras: -5.6414e+03 - val_loss: 5394.0088 - val_r2_keras: -3.2765e+03 - 228s/epoch - 57s/step\n",
            "Epoch 18/100\n",
            "4/4 - 239s - loss: 4954.6323 - r2_keras: -3.3453e+03 - val_loss: 8106.6108 - val_r2_keras: -4.9247e+03 - 239s/epoch - 60s/step\n",
            "Epoch 19/100\n",
            "4/4 - 226s - loss: 4609.0229 - r2_keras: -2.4911e+03 - val_loss: 5739.0254 - val_r2_keras: -3.4861e+03 - 226s/epoch - 57s/step\n",
            "Epoch 20/100\n",
            "4/4 - 229s - loss: 4241.1792 - r2_keras: -2.4022e+03 - val_loss: 4816.2681 - val_r2_keras: -2.9254e+03 - 229s/epoch - 57s/step\n",
            "Epoch 21/100\n",
            "4/4 - 233s - loss: 2479.2444 - r2_keras: -1.3855e+03 - val_loss: 4736.3359 - val_r2_keras: -2.8769e+03 - 233s/epoch - 58s/step\n",
            "Epoch 22/100\n",
            "4/4 - 227s - loss: 2887.3127 - r2_keras: -1.5706e+03 - val_loss: 4387.6187 - val_r2_keras: -2.6650e+03 - 227s/epoch - 57s/step\n",
            "Epoch 23/100\n"
          ]
        }
      ],
      "source": [
        "model.fit(X_train, y_train,\n",
        "          batch_size=batch_size,\n",
        "          epochs=epochs,\n",
        "          verbose=2,\n",
        "          validation_data=(X_test, y_test))\n",
        "score = model.evaluate(X_test, y_test, verbose=0)"
      ]
    },
    {
      "cell_type": "code",
      "execution_count": null,
      "metadata": {
        "colab": {
          "background_save": true,
          "base_uri": "https://localhost:8080/"
        },
        "id": "SizRZ98iaA4p",
        "outputId": "e34a9ceb-6c38-42f6-cf4e-d6364e8b606a"
      },
      "outputs": [
        {
          "name": "stdout",
          "output_type": "stream",
          "text": [
            "Epoch 1/100\n",
            "4/4 - 214s - loss: 3495783.0000 - r2_keras: -1.6952e+06 - val_loss: 39121.7969 - val_r2_keras: -2.3770e+04 - 214s/epoch - 53s/step\n",
            "Epoch 2/100\n",
            "4/4 - 209s - loss: 35762.8516 - r2_keras: -1.9343e+04 - val_loss: 28400.2188 - val_r2_keras: -1.7255e+04 - 209s/epoch - 52s/step\n",
            "Epoch 3/100\n",
            "4/4 - 210s - loss: 16866.5840 - r2_keras: -9.6671e+03 - val_loss: 12167.9922 - val_r2_keras: -7.3924e+03 - 210s/epoch - 53s/step\n",
            "Epoch 4/100\n",
            "4/4 - 203s - loss: 7000.7012 - r2_keras: -4.1869e+03 - val_loss: 655.3848 - val_r2_keras: -3.9722e+02 - 203s/epoch - 51s/step\n",
            "Epoch 5/100\n",
            "4/4 - 203s - loss: 911.8474 - r2_keras: -5.5633e+02 - val_loss: 390.9101 - val_r2_keras: -2.3652e+02 - 203s/epoch - 51s/step\n",
            "Epoch 6/100\n",
            "4/4 - 211s - loss: 306.9773 - r2_keras: -1.7218e+02 - val_loss: 4.3394 - val_r2_keras: -1.6367e+00 - 211s/epoch - 53s/step\n",
            "Epoch 7/100\n",
            "4/4 - 203s - loss: 39.6385 - r2_keras: -2.4400e+01 - val_loss: 88.5123 - val_r2_keras: -5.2781e+01 - 203s/epoch - 51s/step\n",
            "Epoch 8/100\n",
            "4/4 - 204s - loss: 153.8305 - r2_keras: -8.3726e+01 - val_loss: 93.2567 - val_r2_keras: -5.5664e+01 - 204s/epoch - 51s/step\n",
            "Epoch 9/100\n",
            "4/4 - 213s - loss: 119.4927 - r2_keras: -6.5560e+01 - val_loss: 44.3077 - val_r2_keras: -2.5922e+01 - 213s/epoch - 53s/step\n",
            "Epoch 10/100\n",
            "4/4 - 205s - loss: 49.8463 - r2_keras: -2.5683e+01 - val_loss: 14.8119 - val_r2_keras: -7.9999e+00 - 205s/epoch - 51s/step\n",
            "Epoch 11/100\n",
            "4/4 - 204s - loss: 15.9324 - r2_keras: -7.7950e+00 - val_loss: 4.7887 - val_r2_keras: -1.9097e+00 - 204s/epoch - 51s/step\n",
            "Epoch 12/100\n",
            "4/4 - 212s - loss: 5.1192 - r2_keras: -1.8518e+00 - val_loss: 2.2717 - val_r2_keras: -3.8032e-01 - 212s/epoch - 53s/step\n",
            "Epoch 13/100\n",
            "4/4 - 204s - loss: 2.4842 - r2_keras: -4.0904e-01 - val_loss: 1.7464 - val_r2_keras: -6.1142e-02 - 204s/epoch - 51s/step\n",
            "Epoch 14/100\n",
            "4/4 - 202s - loss: 1.9159 - r2_keras: -7.5758e-02 - val_loss: 1.6571 - val_r2_keras: -6.9026e-03 - 202s/epoch - 50s/step\n",
            "Epoch 15/100\n",
            "4/4 - 210s - loss: 1.8133 - r2_keras: -1.1153e-02 - val_loss: 1.6486 - val_r2_keras: -1.7014e-03 - 210s/epoch - 52s/step\n",
            "Epoch 16/100\n",
            "4/4 - 202s - loss: 1.7959 - r2_keras: -2.4456e-03 - val_loss: 1.6517 - val_r2_keras: -3.5688e-03 - 202s/epoch - 50s/step\n",
            "Epoch 17/100\n",
            "4/4 - 208s - loss: 1.7909 - r2_keras: -5.1802e-04 - val_loss: 1.6548 - val_r2_keras: -5.4865e-03 - 208s/epoch - 52s/step\n",
            "Epoch 18/100\n",
            "4/4 - 205s - loss: 1.7909 - r2_keras: -1.6092e-03 - val_loss: 1.6569 - val_r2_keras: -6.7440e-03 - 205s/epoch - 51s/step\n",
            "Epoch 19/100\n",
            "4/4 - 203s - loss: 1.7903 - r2_keras: -2.7704e-04 - val_loss: 1.6582 - val_r2_keras: -7.5361e-03 - 203s/epoch - 51s/step\n",
            "Epoch 20/100\n",
            "4/4 - 210s - loss: 1.7907 - r2_keras: -1.1371e-02 - val_loss: 1.6590 - val_r2_keras: -8.0169e-03 - 210s/epoch - 52s/step\n",
            "Epoch 21/100\n",
            "4/4 - 204s - loss: 1.7908 - r2_keras: 3.4258e-05 - val_loss: 1.6594 - val_r2_keras: -8.2965e-03 - 204s/epoch - 51s/step\n",
            "Epoch 22/100\n",
            "4/4 - 202s - loss: 1.7908 - r2_keras: -5.7004e-03 - val_loss: 1.6597 - val_r2_keras: -8.4426e-03 - 202s/epoch - 51s/step\n",
            "Epoch 23/100\n",
            "4/4 - 209s - loss: 1.7909 - r2_keras: -2.5326e-03 - val_loss: 1.6597 - val_r2_keras: -8.4667e-03 - 209s/epoch - 52s/step\n",
            "Epoch 24/100\n",
            "4/4 - 204s - loss: 1.7909 - r2_keras: -5.5139e-04 - val_loss: 1.6596 - val_r2_keras: -8.4126e-03 - 204s/epoch - 51s/step\n",
            "Epoch 25/100\n",
            "4/4 - 202s - loss: 1.7908 - r2_keras: -1.4330e-02 - val_loss: 1.6595 - val_r2_keras: -8.3139e-03 - 202s/epoch - 50s/step\n",
            "Epoch 26/100\n",
            "4/4 - 210s - loss: 1.7907 - r2_keras: -5.6913e-03 - val_loss: 1.6593 - val_r2_keras: -8.1795e-03 - 210s/epoch - 52s/step\n",
            "Epoch 27/100\n",
            "4/4 - 207s - loss: 1.7905 - r2_keras: 0.0010 - val_loss: 1.6590 - val_r2_keras: -8.0186e-03 - 207s/epoch - 52s/step\n",
            "Epoch 28/100\n",
            "4/4 - 203s - loss: 1.7903 - r2_keras: -2.3668e-03 - val_loss: 1.6586 - val_r2_keras: -7.8093e-03 - 203s/epoch - 51s/step\n",
            "Epoch 29/100\n",
            "4/4 - 209s - loss: 1.7901 - r2_keras: 4.4204e-04 - val_loss: 1.6582 - val_r2_keras: -7.5705e-03 - 209s/epoch - 52s/step\n",
            "Epoch 30/100\n",
            "4/4 - 205s - loss: 1.7899 - r2_keras: -3.5628e-03 - val_loss: 1.6578 - val_r2_keras: -7.2960e-03 - 205s/epoch - 51s/step\n",
            "Epoch 31/100\n",
            "4/4 - 204s - loss: 1.7895 - r2_keras: -4.9875e-03 - val_loss: 1.6573 - val_r2_keras: -7.0119e-03 - 204s/epoch - 51s/step\n",
            "Epoch 32/100\n",
            "4/4 - 209s - loss: 1.7893 - r2_keras: -1.5294e-02 - val_loss: 1.6568 - val_r2_keras: -6.6713e-03 - 209s/epoch - 52s/step\n",
            "Epoch 33/100\n",
            "4/4 - 205s - loss: 1.7889 - r2_keras: -1.3166e-02 - val_loss: 1.6562 - val_r2_keras: -6.3368e-03 - 205s/epoch - 51s/step\n",
            "Epoch 34/100\n",
            "4/4 - 203s - loss: 1.7886 - r2_keras: -1.2518e-02 - val_loss: 1.6557 - val_r2_keras: -5.9923e-03 - 203s/epoch - 51s/step\n",
            "Epoch 35/100\n",
            "4/4 - 209s - loss: 1.7882 - r2_keras: -1.1373e-02 - val_loss: 1.6551 - val_r2_keras: -5.6342e-03 - 209s/epoch - 52s/step\n",
            "Epoch 36/100\n",
            "4/4 - 205s - loss: 1.7879 - r2_keras: 9.4773e-04 - val_loss: 1.6545 - val_r2_keras: -5.2769e-03 - 205s/epoch - 51s/step\n",
            "Epoch 37/100\n",
            "4/4 - 203s - loss: 1.7875 - r2_keras: 0.0014 - val_loss: 1.6538 - val_r2_keras: -4.8844e-03 - 203s/epoch - 51s/step\n",
            "Epoch 38/100\n",
            "4/4 - 211s - loss: 1.7871 - r2_keras: -2.4137e-03 - val_loss: 1.6530 - val_r2_keras: -4.3980e-03 - 211s/epoch - 53s/step\n",
            "Epoch 39/100\n",
            "4/4 - 205s - loss: 1.7866 - r2_keras: 0.0036 - val_loss: 1.6521 - val_r2_keras: -3.8128e-03 - 205s/epoch - 51s/step\n",
            "Epoch 40/100\n",
            "4/4 - 203s - loss: 1.7861 - r2_keras: 0.0035 - val_loss: 1.6509 - val_r2_keras: -3.0812e-03 - 203s/epoch - 51s/step\n",
            "Epoch 41/100\n",
            "4/4 - 211s - loss: 1.7854 - r2_keras: 0.0044 - val_loss: 1.6495 - val_r2_keras: -2.2256e-03 - 211s/epoch - 53s/step\n",
            "Epoch 42/100\n",
            "4/4 - 209s - loss: 1.7848 - r2_keras: -4.0048e-03 - val_loss: 1.6477 - val_r2_keras: -1.1476e-03 - 209s/epoch - 52s/step\n",
            "Epoch 43/100\n",
            "4/4 - 204s - loss: 1.7838 - r2_keras: 0.0021 - val_loss: 1.6457 - val_r2_keras: 3.2365e-05 - 204s/epoch - 51s/step\n",
            "Epoch 44/100\n",
            "4/4 - 213s - loss: 1.7827 - r2_keras: -8.2794e-03 - val_loss: 1.6436 - val_r2_keras: 0.0014 - 213s/epoch - 53s/step\n",
            "Epoch 45/100\n",
            "4/4 - 204s - loss: 1.7816 - r2_keras: 0.0067 - val_loss: 1.6412 - val_r2_keras: 0.0028 - 204s/epoch - 51s/step\n",
            "Epoch 46/100\n",
            "4/4 - 210s - loss: 1.7802 - r2_keras: -8.2409e-04 - val_loss: 1.6384 - val_r2_keras: 0.0045 - 210s/epoch - 52s/step\n",
            "Epoch 47/100\n",
            "4/4 - 219s - loss: 1.7789 - r2_keras: 0.0018 - val_loss: 1.6347 - val_r2_keras: 0.0067 - 219s/epoch - 55s/step\n",
            "Epoch 48/100\n",
            "4/4 - 206s - loss: 1.7771 - r2_keras: 0.0026 - val_loss: 1.6306 - val_r2_keras: 0.0092 - 206s/epoch - 51s/step\n",
            "Epoch 49/100\n",
            "4/4 - 211s - loss: 1.7746 - r2_keras: 0.0075 - val_loss: 1.6255 - val_r2_keras: 0.0123 - 211s/epoch - 53s/step\n",
            "Epoch 50/100\n",
            "4/4 - 217s - loss: 1.7721 - r2_keras: 0.0085 - val_loss: 1.6186 - val_r2_keras: 0.0165 - 217s/epoch - 54s/step\n",
            "Epoch 51/100\n",
            "4/4 - 203s - loss: 1.7678 - r2_keras: 0.0128 - val_loss: 1.6110 - val_r2_keras: 0.0212 - 203s/epoch - 51s/step\n",
            "Epoch 52/100\n",
            "4/4 - 211s - loss: 1.7650 - r2_keras: 0.0063 - val_loss: 1.5994 - val_r2_keras: 0.0282 - 211s/epoch - 53s/step\n",
            "Epoch 53/100\n"
          ]
        }
      ],
      "source": [
        "model.fit(X_train, y_train,\n",
        "          batch_size=batch_size,\n",
        "          epochs=epochs,\n",
        "          verbose=2,\n",
        "          validation_data=(X_test, y_test))\n",
        "score = model.evaluate(X_test, y_test, verbose=0)"
      ]
    },
    {
      "cell_type": "code",
      "execution_count": null,
      "metadata": {
        "id": "2BV3kgFFpHYb"
      },
      "outputs": [],
      "source": []
    }
  ],
  "metadata": {
    "colab": {
      "provenance": [],
      "authorship_tag": "ABX9TyPkHTlMST92YgBmF72kBQoA",
      "include_colab_link": true
    },
    "kernelspec": {
      "display_name": "Python 3",
      "name": "python3"
    },
    "language_info": {
      "name": "python"
    }
  },
  "nbformat": 4,
  "nbformat_minor": 0
}